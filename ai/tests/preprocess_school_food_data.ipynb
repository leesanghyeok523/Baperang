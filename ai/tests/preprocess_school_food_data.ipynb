{
 "cells": [
  {
   "cell_type": "code",
   "execution_count": 1,
   "id": "197a24c7",
   "metadata": {},
   "outputs": [],
   "source": [
    "import pandas as pd\n",
    "import numpy as np"
   ]
  },
  {
   "cell_type": "code",
   "execution_count": 2,
   "id": "cd871d8b",
   "metadata": {},
   "outputs": [],
   "source": [
    "# 엑셀 파일 경로\n",
    "file_path = \"급식식단정보.csv\""
   ]
  },
  {
   "cell_type": "code",
   "execution_count": 3,
   "id": "a9babc94",
   "metadata": {},
   "outputs": [],
   "source": [
    "df = pd.read_csv(file_path)"
   ]
  },
  {
   "cell_type": "code",
   "execution_count": 4,
   "id": "c934778d",
   "metadata": {},
   "outputs": [
    {
     "name": "stdout",
     "output_type": "stream",
     "text": [
      "  시도교육청코드    시도교육청명   행정표준코드     학교명  식사코드 식사명      급식일자  급식인원수  \\\n",
      "0     C10  부산광역시교육청  7150451  명호고등학교     2  중식  20250502  884.0   \n",
      "1     C10  부산광역시교육청  7150451  명호고등학교     2  중식  20250507  884.0   \n",
      "2     C10  부산광역시교육청  7150451  명호고등학교     2  중식  20250508  884.0   \n",
      "3     C10  부산광역시교육청  7150451  명호고등학교     2  중식  20250509  884.0   \n",
      "4     C10  부산광역시교육청  7150451  명호고등학교     2  중식  20250512  884.0   \n",
      "\n",
      "                                                 요리명  \\\n",
      "0  백미밥 <br/>미니우동 (1.2.5.6.9.13)<br/>양배추샐러드 (1.5.1...   \n",
      "1  쌀국수(a) (9.16)<br/>베트남식샌드위치 (1.2.5.6.10.12.13)<...   \n",
      "2  현미밥 <br/>앙금빵 (1.2.5.6)<br/>등뼈감자탕(명) (5.6.9.10....   \n",
      "3  1/2백미밥+김가루 <br/>미나리버섯칼국수 (5.6.13.16)<br/>찐만두 (...   \n",
      "4  기장밥1 <br/>꽃게된장국 (5.6.8.9)<br/>메추리알곤약조림 (1.5.6....   \n",
      "\n",
      "                                               원산지정보       칼로리정보  \\\n",
      "0  쇠고기(종류) : 국내산(한우)<br/>쇠고기 식육가공품 : 국내산<br/>돼지고기...  801.4 Kcal   \n",
      "1  쇠고기(종류) : 국내산(한우)<br/>쇠고기 식육가공품 : 국내산<br/>돼지고기...  785.5 Kcal   \n",
      "2  쇠고기(종류) : 국내산(한우)<br/>쇠고기 식육가공품 : 국내산<br/>돼지고기...  816.2 Kcal   \n",
      "3  쇠고기(종류) : 국내산(한우)<br/>쇠고기 식육가공품 : 국내산<br/>돼지고기...  835.5 Kcal   \n",
      "4  쇠고기(종류) : 국내산(한우)<br/>쇠고기 식육가공품 : 국내산<br/>돼지고기...  807.1 Kcal   \n",
      "\n",
      "                                                영양정보      수정일자  \n",
      "0  탄수화물(g) : 128.2<br/>단백질(g) : 27.0<br/>지방(g) : ...  20250509  \n",
      "1  탄수화물(g) : 117.9<br/>단백질(g) : 39.0<br/>지방(g) : ...  20250509  \n",
      "2  탄수화물(g) : 118.7<br/>단백질(g) : 31.5<br/>지방(g) : ...  20250509  \n",
      "3  탄수화물(g) : 120.9<br/>단백질(g) : 33.0<br/>지방(g) : ...  20250509  \n",
      "4  탄수화물(g) : 111.2<br/>단백질(g) : 35.3<br/>지방(g) : ...  20250509  \n"
     ]
    }
   ],
   "source": [
    "# 제목행 + 5개 데이터\n",
    "print(df.head())"
   ]
  },
  {
   "cell_type": "markdown",
   "id": "fadf68d9",
   "metadata": {},
   "source": [
    "# 정제 방향성\n",
    "\n",
    "### 1. column 정리\n",
    "- 필요한 column명만 추출 : 시도교육청명, 학교명, 식사명, 급식일자, 요리명, 칼로리정보, 영양정보\n",
    "- col 명 변경\n",
    "    - 시도교육청명 -> 시도명\n",
    "    - 요리명 -> 메뉴 이름\n",
    "    - 칼로리정보 -> 에너지\n",
    "    - 급식일자 -> 급식날짜\n",
    "\n",
    "### 2. 요리 명 분리\n",
    "- \"<br/>\" 기준으로 요리명 분리\n",
    "- 숫자 데이터 제거\n",
    "- 띄어쓰기 제거\n",
    "\n",
    "### 3. 영양정보 분리\n",
    "- 영양정보 자료 \"<br/>\" 기준으로 분리\n",
    "- \" : \" 기준 항목과 수치를 분리해 col 생성\n",
    "\n",
    "### 4. 다른 파일로 저장"
   ]
  },
  {
   "cell_type": "code",
   "execution_count": 5,
   "id": "524668d1",
   "metadata": {},
   "outputs": [
    {
     "name": "stdout",
     "output_type": "stream",
     "text": [
      "데이터의 기본 정보\n",
      "<class 'pandas.core.frame.DataFrame'>\n",
      "RangeIndex: 34 entries, 0 to 33\n",
      "Data columns (total 13 columns):\n",
      " #   Column   Non-Null Count  Dtype  \n",
      "---  ------   --------------  -----  \n",
      " 0   시도교육청코드  34 non-null     object \n",
      " 1   시도교육청명   34 non-null     object \n",
      " 2   행정표준코드   34 non-null     int64  \n",
      " 3   학교명      34 non-null     object \n",
      " 4   식사코드     34 non-null     int64  \n",
      " 5   식사명      34 non-null     object \n",
      " 6   급식일자     34 non-null     int64  \n",
      " 7   급식인원수    34 non-null     float64\n",
      " 8   요리명      34 non-null     object \n",
      " 9   원산지정보    34 non-null     object \n",
      " 10  칼로리정보    34 non-null     object \n",
      " 11  영양정보     34 non-null     object \n",
      " 12  수정일자     34 non-null     int64  \n",
      "dtypes: float64(1), int64(4), object(8)\n",
      "memory usage: 3.6+ KB\n",
      "None\n",
      "데이터의 행과 열 개수\n",
      "(34, 13)\n",
      "데이터의 통계적 요약\n",
      "          행정표준코드       식사코드          급식일자       급식인원수        수정일자\n",
      "count       34.0  34.000000  3.400000e+01   34.000000        34.0\n",
      "mean   7150451.0   2.470588  2.025052e+07  651.529412  20250509.0\n",
      "std          0.0   0.506640  8.151856e+00  250.280356         0.0\n",
      "min    7150451.0   2.000000  2.025050e+07  390.000000  20250509.0\n",
      "25%    7150451.0   2.000000  2.025051e+07  390.000000  20250509.0\n",
      "50%    7150451.0   2.000000  2.025052e+07  884.000000  20250509.0\n",
      "75%    7150451.0   3.000000  2.025052e+07  884.000000  20250509.0\n",
      "max    7150451.0   3.000000  2.025053e+07  884.000000  20250509.0\n",
      "데이터의 열 이름\n",
      "Index(['시도교육청코드', '시도교육청명', '행정표준코드', '학교명', '식사코드', '식사명', '급식일자', '급식인원수',\n",
      "       '요리명', '원산지정보', '칼로리정보', '영양정보', '수정일자'],\n",
      "      dtype='object')\n",
      "데이터의 결측치 확인\n",
      "시도교육청코드    0\n",
      "시도교육청명     0\n",
      "행정표준코드     0\n",
      "학교명        0\n",
      "식사코드       0\n",
      "식사명        0\n",
      "급식일자       0\n",
      "급식인원수      0\n",
      "요리명        0\n",
      "원산지정보      0\n",
      "칼로리정보      0\n",
      "영양정보       0\n",
      "수정일자       0\n",
      "dtype: int64\n",
      "데이터의 중복 확인\n",
      "0\n",
      "데이터의 고유값 확인\n",
      "시도교육청코드     1\n",
      "시도교육청명      1\n",
      "행정표준코드      1\n",
      "학교명         1\n",
      "식사코드        2\n",
      "식사명         2\n",
      "급식일자       18\n",
      "급식인원수       2\n",
      "요리명        34\n",
      "원산지정보       1\n",
      "칼로리정보      32\n",
      "영양정보       34\n",
      "수정일자        1\n",
      "dtype: int64\n"
     ]
    }
   ],
   "source": [
    "# 기본 데이터 이해\n",
    "print(\"데이터의 기본 정보\")\n",
    "print(df.info())\n",
    "# 데이터의 행과 열 개수\n",
    "print(\"데이터의 행과 열 개수\")\n",
    "print(df.shape)\n",
    "# 데이터의 통계적 요약\n",
    "print(\"데이터의 통계적 요약\")\n",
    "print(df.describe())\n",
    "# 데이터의 열 이름\n",
    "print(\"데이터의 열 이름\")\n",
    "print(df.columns)\n",
    "# 데이터의 결측치 확인\n",
    "print(\"데이터의 결측치 확인\")\n",
    "print(df.isnull().sum())\n",
    "# 데이터의 중복 확인\n",
    "print(\"데이터의 중복 확인\")\n",
    "print(df.duplicated().sum())\n",
    "# 데이터의 고유값 확인\n",
    "print(\"데이터의 고유값 확인\")\n",
    "print(df.nunique())\n"
   ]
  },
  {
   "cell_type": "markdown",
   "id": "8876602a",
   "metadata": {},
   "source": [
    "# 1. column 정리\n",
    "### 1. 필요한 column명만 추출 : 시도교육청명, 학교명, 식사명, 급식일자, 요리명, 칼로리정보, 영양정보"
   ]
  },
  {
   "cell_type": "code",
   "execution_count": 6,
   "id": "5959ab87",
   "metadata": {},
   "outputs": [
    {
     "name": "stdout",
     "output_type": "stream",
     "text": [
      "Index(['시도교육청명', '학교명', '식사명', '급식일자', '요리명', '칼로리정보', '영양정보'], dtype='object')\n",
      "     시도교육청명     학교명 식사명      급식일자  \\\n",
      "0  부산광역시교육청  명호고등학교  중식  20250502   \n",
      "1  부산광역시교육청  명호고등학교  중식  20250507   \n",
      "2  부산광역시교육청  명호고등학교  중식  20250508   \n",
      "3  부산광역시교육청  명호고등학교  중식  20250509   \n",
      "4  부산광역시교육청  명호고등학교  중식  20250512   \n",
      "\n",
      "                                                 요리명       칼로리정보  \\\n",
      "0  백미밥 <br/>미니우동 (1.2.5.6.9.13)<br/>양배추샐러드 (1.5.1...  801.4 Kcal   \n",
      "1  쌀국수(a) (9.16)<br/>베트남식샌드위치 (1.2.5.6.10.12.13)<...  785.5 Kcal   \n",
      "2  현미밥 <br/>앙금빵 (1.2.5.6)<br/>등뼈감자탕(명) (5.6.9.10....  816.2 Kcal   \n",
      "3  1/2백미밥+김가루 <br/>미나리버섯칼국수 (5.6.13.16)<br/>찐만두 (...  835.5 Kcal   \n",
      "4  기장밥1 <br/>꽃게된장국 (5.6.8.9)<br/>메추리알곤약조림 (1.5.6....  807.1 Kcal   \n",
      "\n",
      "                                                영양정보  \n",
      "0  탄수화물(g) : 128.2<br/>단백질(g) : 27.0<br/>지방(g) : ...  \n",
      "1  탄수화물(g) : 117.9<br/>단백질(g) : 39.0<br/>지방(g) : ...  \n",
      "2  탄수화물(g) : 118.7<br/>단백질(g) : 31.5<br/>지방(g) : ...  \n",
      "3  탄수화물(g) : 120.9<br/>단백질(g) : 33.0<br/>지방(g) : ...  \n",
      "4  탄수화물(g) : 111.2<br/>단백질(g) : 35.3<br/>지방(g) : ...  \n"
     ]
    }
   ],
   "source": [
    "# 필요한 column 정의\n",
    "need_col = [\"시도교육청명\", \"학교명\", \"식사명\", \"급식일자\", \"요리명\", \"칼로리정보\", \"영양정보\"]\n",
    "# 필요한 것만 추출\n",
    "df = df[need_col]\n",
    "print(df.columns)\n",
    "print(df.head())"
   ]
  },
  {
   "cell_type": "markdown",
   "id": "0816fb34",
   "metadata": {},
   "source": [
    "### 2. col 명 변경\n",
    "- 시도교육청명 -> 시도명\n",
    "- 요리명 -> 메뉴이름\n",
    "- 칼로리정보 -> 에너지\n",
    "- 급식일자 -> 급식날짜"
   ]
  },
  {
   "cell_type": "code",
   "execution_count": 7,
   "id": "72720ae0",
   "metadata": {},
   "outputs": [],
   "source": [
    "# col 명 변경\n",
    "df = df.rename(columns={\n",
    "  \"시도교육청명\" : \"시도명\",\n",
    "  \"요리명\" : \"메뉴이름\",\n",
    "  \"칼로리정보\" : \"에너지\",\n",
    "  \"급식일자\" : \"급식날짜\",\n",
    "})"
   ]
  },
  {
   "cell_type": "code",
   "execution_count": 8,
   "id": "b043c1b4",
   "metadata": {},
   "outputs": [
    {
     "name": "stdout",
     "output_type": "stream",
     "text": [
      "Index(['시도명', '학교명', '식사명', '급식날짜', '메뉴이름', '에너지', '영양정보'], dtype='object')\n"
     ]
    }
   ],
   "source": [
    "print(df.columns)"
   ]
  },
  {
   "cell_type": "markdown",
   "id": "3e2f3b1e",
   "metadata": {},
   "source": [
    "### 3. 중식만 조회"
   ]
  },
  {
   "cell_type": "code",
   "execution_count": 9,
   "id": "1b2bc79e",
   "metadata": {},
   "outputs": [],
   "source": [
    "df = df[df[\"식사명\"]==\"중식\"].copy()"
   ]
  },
  {
   "cell_type": "code",
   "execution_count": 10,
   "id": "b681ac95",
   "metadata": {},
   "outputs": [
    {
     "name": "stdout",
     "output_type": "stream",
     "text": [
      "['중식']\n"
     ]
    }
   ],
   "source": [
    "print(df[\"식사명\"].unique())"
   ]
  },
  {
   "cell_type": "code",
   "execution_count": 11,
   "id": "13cbb3e7",
   "metadata": {},
   "outputs": [],
   "source": [
    "# 이제 식사 구분 필요 없음\n",
    "df.drop(columns=[\"식사명\"], inplace=True)"
   ]
  },
  {
   "cell_type": "code",
   "execution_count": 12,
   "id": "fa629fa6",
   "metadata": {},
   "outputs": [
    {
     "name": "stdout",
     "output_type": "stream",
     "text": [
      "Index(['시도명', '학교명', '급식날짜', '메뉴이름', '에너지', '영양정보'], dtype='object')\n"
     ]
    }
   ],
   "source": [
    "print(df.columns)"
   ]
  },
  {
   "cell_type": "markdown",
   "id": "ad42cf42",
   "metadata": {},
   "source": [
    "# 2. 요리 명 분리\n",
    "### 1. `<br/>` 기준으로 요리명 분리"
   ]
  },
  {
   "cell_type": "code",
   "execution_count": 13,
   "id": "c7135948",
   "metadata": {},
   "outputs": [
    {
     "name": "stdout",
     "output_type": "stream",
     "text": [
      "8\n"
     ]
    }
   ],
   "source": [
    "# 메뉴 문자열을 <br/> 기준으로 분할\n",
    "menu_split = df[\"메뉴이름\"].fillna(\"\").apply(lambda x: x.split(\"<br/>\"))\n",
    "\n",
    "# 가장 긴 메뉴 개수 확인\n",
    "max_menu_count = menu_split.apply(len).max()\n",
    "\n",
    "print(max_menu_count)"
   ]
  },
  {
   "cell_type": "code",
   "execution_count": 14,
   "id": "f464f350",
   "metadata": {},
   "outputs": [
    {
     "name": "stdout",
     "output_type": "stream",
     "text": [
      "8\n"
     ]
    }
   ],
   "source": [
    "df[\"메뉴개수\"] = df[\"메뉴이름\"].fillna(\"\").apply(lambda x: len(x.split(\"<br/>\")))\n",
    "print(df[\"메뉴개수\"].max())"
   ]
  },
  {
   "cell_type": "code",
   "execution_count": 15,
   "id": "8213b536",
   "metadata": {},
   "outputs": [
    {
     "name": "stdout",
     "output_type": "stream",
     "text": [
      "['백미밥 <br/>미니우동 (1.2.5.6.9.13)<br/>양배추샐러드 (1.5.12.13)<br/>김자반 (13)<br/>국물떡볶이 (1.5.6.13)<br/>치킨까스*소스 (1.2.5.6.12.13.15.16.18)<br/>김치 (9)<br/>참깨드레싱 (1.5.6.13)'\n",
      " '혼합15곡잡곡밥(추천) (5)<br/>양념장 (5.6)<br/>닭다리삼계탕 (15)<br/>도토리묵 <br/>아귀살강정 (5.6.12.13)<br/>동그랑땡구이 (1.2.5.6.10.15.16)<br/>섞박지 (9)<br/>케첩 (12)'\n",
      " '검정쌀밥1 <br/>맑은동태탕 (5.6.9)<br/>온두부 (5)<br/>단배추된장나물 (5.6)<br/>돈육고추장불고기* (5.6.10.13)<br/>볶음김치 (9)<br/>깍두기 (9)<br/>오렌지 ']\n"
     ]
    }
   ],
   "source": [
    "# 메뉴 개수 최대 확인\n",
    "max_count = df[\"메뉴개수\"].max()\n",
    "print(df[df[\"메뉴개수\"] == max_count][\"메뉴이름\"].values)"
   ]
  },
  {
   "cell_type": "code",
   "execution_count": 16,
   "id": "8cfc0b20",
   "metadata": {},
   "outputs": [
    {
     "name": "stdout",
     "output_type": "stream",
     "text": [
      "시도명     13\n",
      "학교명     13\n",
      "급식날짜    13\n",
      "메뉴이름    13\n",
      "에너지     13\n",
      "영양정보    13\n",
      "메뉴개수    13\n",
      "dtype: int64\n"
     ]
    }
   ],
   "source": [
    "print(df[df[\"메뉴개수\"] >= 6].count())"
   ]
  },
  {
   "cell_type": "code",
   "execution_count": 17,
   "id": "79a4dcb5",
   "metadata": {},
   "outputs": [],
   "source": [
    "for i in range(max_menu_count):\n",
    "  df[f\"메뉴{i+1}\"] = menu_split.apply(lambda x: x[i] if i < len(x) else \"\")"
   ]
  },
  {
   "cell_type": "code",
   "execution_count": 18,
   "id": "8af8ea14",
   "metadata": {},
   "outputs": [
    {
     "name": "stdout",
     "output_type": "stream",
     "text": [
      "Index(['시도명', '학교명', '급식날짜', '메뉴이름', '에너지', '영양정보', '메뉴개수', '메뉴1', '메뉴2',\n",
      "       '메뉴3', '메뉴4', '메뉴5', '메뉴6', '메뉴7', '메뉴8'],\n",
      "      dtype='object')\n"
     ]
    }
   ],
   "source": [
    "print(df.columns)"
   ]
  },
  {
   "cell_type": "code",
   "execution_count": 19,
   "id": "84b22074",
   "metadata": {},
   "outputs": [],
   "source": [
    "# 메뉴이름, 메뉴개수 테이블 제거\n",
    "df.drop(columns=[\"메뉴이름\", \"메뉴개수\"], inplace=True)"
   ]
  },
  {
   "cell_type": "code",
   "execution_count": 20,
   "id": "eb06feea",
   "metadata": {},
   "outputs": [
    {
     "name": "stdout",
     "output_type": "stream",
     "text": [
      "        시도명     학교명      급식날짜         에너지  \\\n",
      "0  부산광역시교육청  명호고등학교  20250502  801.4 Kcal   \n",
      "1  부산광역시교육청  명호고등학교  20250507  785.5 Kcal   \n",
      "2  부산광역시교육청  명호고등학교  20250508  816.2 Kcal   \n",
      "3  부산광역시교육청  명호고등학교  20250509  835.5 Kcal   \n",
      "4  부산광역시교육청  명호고등학교  20250512  807.1 Kcal   \n",
      "\n",
      "                                                영양정보            메뉴1  \\\n",
      "0  탄수화물(g) : 128.2<br/>단백질(g) : 27.0<br/>지방(g) : ...           백미밥    \n",
      "1  탄수화물(g) : 117.9<br/>단백질(g) : 39.0<br/>지방(g) : ...  쌀국수(a) (9.16)   \n",
      "2  탄수화물(g) : 118.7<br/>단백질(g) : 31.5<br/>지방(g) : ...           현미밥    \n",
      "3  탄수화물(g) : 120.9<br/>단백질(g) : 33.0<br/>지방(g) : ...    1/2백미밥+김가루    \n",
      "4  탄수화물(g) : 111.2<br/>단백질(g) : 35.3<br/>지방(g) : ...          기장밥1    \n",
      "\n",
      "                           메뉴2                     메뉴3  \\\n",
      "0          미니우동 (1.2.5.6.9.13)      양배추샐러드 (1.5.12.13)   \n",
      "1  베트남식샌드위치 (1.2.5.6.10.12.13)       공심채볶음 (5.6.13.18)   \n",
      "2                앙금빵 (1.2.5.6)  등뼈감자탕(명) (5.6.9.10.13)   \n",
      "3         미나리버섯칼국수 (5.6.13.16)    찐만두 (1.5.6.10.16.18)   \n",
      "4              꽃게된장국 (5.6.8.9)     메추리알곤약조림 (1.5.6.13)   \n",
      "\n",
      "                             메뉴4                            메뉴5  \\\n",
      "0                       김자반 (13)               국물떡볶이 (1.5.6.13)   \n",
      "1  새우짜조롤*칠리소스 (1.2.5.6.12.13.17)                        아이스망고바    \n",
      "2                  두부톳무침(추천) (5)  비엔나떡볶음 (2.5.6.10.12.13.15.16)   \n",
      "3     오징어어묵무침*도시락김 (1.5.6.13.17)                        섞박지 (9)   \n",
      "4           마늘보쌈(hj) (5.6.10.13)                        참나물겉절이    \n",
      "\n",
      "                                메뉴6       메뉴7               메뉴8  \n",
      "0  치킨까스*소스 (1.2.5.6.12.13.15.16.18)    김치 (9)  참깨드레싱 (1.5.6.13)  \n",
      "1                                                                \n",
      "2              오징어김치전(안) (5.6.9.17)   깍두기 (9)                    \n",
      "3                      초간장 (5.6.13)                              \n",
      "4                            김치 (9)  요구르트 (2)                    \n"
     ]
    }
   ],
   "source": [
    "print(df.head())"
   ]
  },
  {
   "cell_type": "markdown",
   "id": "61959562",
   "metadata": {},
   "source": [
    "### 2. 불필요 데이터 제거\n",
    "- 공백 제거\n",
    "- 숫자 데이터 제거\n",
    "- 특수 문자 제거"
   ]
  },
  {
   "cell_type": "code",
   "execution_count": 21,
   "id": "321da267",
   "metadata": {},
   "outputs": [],
   "source": [
    "# 문자값만 남기기\n",
    "import re\n",
    "\n",
    "def clean_menu_name(name):\n",
    "    if isinstance(name, str):\n",
    "        return re.sub(r\"[^가-힣a-zA-Z]\",\"\",name)\n",
    "    return name"
   ]
  },
  {
   "cell_type": "code",
   "execution_count": 22,
   "id": "afc5c6d1",
   "metadata": {},
   "outputs": [],
   "source": [
    "# 메뉴열 전체 정제\n",
    "for col in df.columns:\n",
    "    if col.startswith(\"메뉴\"):\n",
    "        df[col] = df[col].apply(clean_menu_name)"
   ]
  },
  {
   "cell_type": "code",
   "execution_count": 23,
   "id": "61521e27",
   "metadata": {},
   "outputs": [
    {
     "name": "stdout",
     "output_type": "stream",
     "text": [
      "        시도명     학교명      급식날짜         에너지  \\\n",
      "0  부산광역시교육청  명호고등학교  20250502  801.4 Kcal   \n",
      "1  부산광역시교육청  명호고등학교  20250507  785.5 Kcal   \n",
      "2  부산광역시교육청  명호고등학교  20250508  816.2 Kcal   \n",
      "3  부산광역시교육청  명호고등학교  20250509  835.5 Kcal   \n",
      "4  부산광역시교육청  명호고등학교  20250512  807.1 Kcal   \n",
      "\n",
      "                                                영양정보     메뉴1       메뉴2  \\\n",
      "0  탄수화물(g) : 128.2<br/>단백질(g) : 27.0<br/>지방(g) : ...     백미밥      미니우동   \n",
      "1  탄수화물(g) : 117.9<br/>단백질(g) : 39.0<br/>지방(g) : ...    쌀국수a  베트남식샌드위치   \n",
      "2  탄수화물(g) : 118.7<br/>단백질(g) : 31.5<br/>지방(g) : ...     현미밥       앙금빵   \n",
      "3  탄수화물(g) : 120.9<br/>단백질(g) : 33.0<br/>지방(g) : ...  백미밥김가루  미나리버섯칼국수   \n",
      "4  탄수화물(g) : 111.2<br/>단백질(g) : 35.3<br/>지방(g) : ...     기장밥     꽃게된장국   \n",
      "\n",
      "        메뉴3          메뉴4     메뉴5      메뉴6   메뉴7    메뉴8  \n",
      "0    양배추샐러드          김자반   국물떡볶이   치킨까스소스    김치  참깨드레싱  \n",
      "1     공심채볶음    새우짜조롤칠리소스  아이스망고바                        \n",
      "2    등뼈감자탕명      두부톳무침추천  비엔나떡볶음  오징어김치전안   깍두기         \n",
      "3       찐만두  오징어어묵무침도시락김     섞박지      초간장               \n",
      "4  메추리알곤약조림       마늘보쌈hj  참나물겉절이       김치  요구르트         \n"
     ]
    }
   ],
   "source": [
    "print(df.head())"
   ]
  },
  {
   "cell_type": "markdown",
   "id": "a8f9317c",
   "metadata": {},
   "source": [
    "# 3. 영양정보 분리\n",
    "### 1. 영양정보 자료 `<br/>` 기준으로 분리\n",
    "### 2. \" : \" 기준 항목과 수치를 분리해 col 생성"
   ]
  },
  {
   "cell_type": "code",
   "execution_count": 24,
   "id": "9783adcc",
   "metadata": {},
   "outputs": [],
   "source": [
    "def parse_nutrition_info(row):\n",
    "    result = {}\n",
    "    if pd.isnull(row):\n",
    "        return result\n",
    "    items = row.split(\"<br/>\")\n",
    "    for item in items:\n",
    "        if \":\" in item:\n",
    "            key, value = item.split(\":\", 1)\n",
    "\n",
    "            # 열 이름 정제\n",
    "            key = key.replace(\" \", \"\")\n",
    "            \n",
    "            # 값 정제\n",
    "            value = value.replace(\" \", \"\")\n",
    "\n",
    "            try:\n",
    "                result[key] = float(value)\n",
    "            except ValueError:\n",
    "                result[key] = None\n",
    "    return result"
   ]
  },
  {
   "cell_type": "code",
   "execution_count": 25,
   "id": "61f6e12a",
   "metadata": {},
   "outputs": [],
   "source": [
    "nutrition_df = df[\"영양정보\"].apply(parse_nutrition_info).apply(pd.Series)"
   ]
  },
  {
   "cell_type": "code",
   "execution_count": 26,
   "id": "73c4cda5",
   "metadata": {},
   "outputs": [],
   "source": [
    "nutrition_df = nutrition_df.astype(\"float64\")"
   ]
  },
  {
   "cell_type": "code",
   "execution_count": 27,
   "id": "b611a06b",
   "metadata": {},
   "outputs": [
    {
     "name": "stdout",
     "output_type": "stream",
     "text": [
      "   탄수화물(g)  단백질(g)  지방(g)  비타민A(R.E)  티아민(mg)  리보플라빈(mg)  비타민C(mg)  칼슘(mg)  \\\n",
      "0    128.2    27.0   21.0      297.9      0.6        0.4      36.9   353.1   \n",
      "1    117.9    39.0   18.2      266.9      0.6        0.5      39.9   418.4   \n",
      "2    118.7    31.5   22.3      250.4      0.8        0.6      56.3   319.7   \n",
      "3    120.9    33.0   23.9      308.9      0.4        0.4      34.2   323.0   \n",
      "4    111.2    35.3   24.4      274.5      0.8        0.6      40.4   517.1   \n",
      "\n",
      "   철분(mg)  \n",
      "0     4.6  \n",
      "1     4.8  \n",
      "2     4.0  \n",
      "3     4.6  \n",
      "4     4.7  \n"
     ]
    }
   ],
   "source": [
    "print(nutrition_df.head())"
   ]
  },
  {
   "cell_type": "code",
   "execution_count": 28,
   "id": "fd8c3026",
   "metadata": {},
   "outputs": [],
   "source": [
    "# 기존 df병합\n",
    "df = pd.concat([df, nutrition_df], axis=1)"
   ]
  },
  {
   "cell_type": "code",
   "execution_count": 29,
   "id": "b839b14c",
   "metadata": {},
   "outputs": [],
   "source": [
    "# 영양정보 열 삭제\n",
    "df.drop(columns=[\"영양정보\"], inplace=True)"
   ]
  },
  {
   "cell_type": "code",
   "execution_count": 30,
   "id": "4372553a",
   "metadata": {},
   "outputs": [
    {
     "name": "stdout",
     "output_type": "stream",
     "text": [
      "        시도명     학교명      급식날짜         에너지     메뉴1       메뉴2       메뉴3  \\\n",
      "0  부산광역시교육청  명호고등학교  20250502  801.4 Kcal     백미밥      미니우동    양배추샐러드   \n",
      "1  부산광역시교육청  명호고등학교  20250507  785.5 Kcal    쌀국수a  베트남식샌드위치     공심채볶음   \n",
      "2  부산광역시교육청  명호고등학교  20250508  816.2 Kcal     현미밥       앙금빵    등뼈감자탕명   \n",
      "3  부산광역시교육청  명호고등학교  20250509  835.5 Kcal  백미밥김가루  미나리버섯칼국수       찐만두   \n",
      "4  부산광역시교육청  명호고등학교  20250512  807.1 Kcal     기장밥     꽃게된장국  메추리알곤약조림   \n",
      "\n",
      "           메뉴4     메뉴5      메뉴6  ...    메뉴8 탄수화물(g)  단백질(g)  지방(g)  비타민A(R.E)  \\\n",
      "0          김자반   국물떡볶이   치킨까스소스  ...  참깨드레싱   128.2    27.0   21.0      297.9   \n",
      "1    새우짜조롤칠리소스  아이스망고바           ...          117.9    39.0   18.2      266.9   \n",
      "2      두부톳무침추천  비엔나떡볶음  오징어김치전안  ...          118.7    31.5   22.3      250.4   \n",
      "3  오징어어묵무침도시락김     섞박지      초간장  ...          120.9    33.0   23.9      308.9   \n",
      "4       마늘보쌈hj  참나물겉절이       김치  ...          111.2    35.3   24.4      274.5   \n",
      "\n",
      "   티아민(mg)  리보플라빈(mg)  비타민C(mg)  칼슘(mg)  철분(mg)  \n",
      "0      0.6        0.4      36.9   353.1     4.6  \n",
      "1      0.6        0.5      39.9   418.4     4.8  \n",
      "2      0.8        0.6      56.3   319.7     4.0  \n",
      "3      0.4        0.4      34.2   323.0     4.6  \n",
      "4      0.8        0.6      40.4   517.1     4.7  \n",
      "\n",
      "[5 rows x 21 columns]\n"
     ]
    }
   ],
   "source": [
    "print(df.head())"
   ]
  },
  {
   "cell_type": "markdown",
   "id": "86b4a96e",
   "metadata": {},
   "source": [
    "### 3. 에너지 열 정리"
   ]
  },
  {
   "cell_type": "code",
   "execution_count": 31,
   "id": "9d22012d",
   "metadata": {},
   "outputs": [],
   "source": [
    "# 정규표현식으로 숫자만 추출 후 float 변환\n",
    "df[\"에너지(kcal)\"]=df[\"에너지\"].str.extract(r\"(\\d+(?:\\.\\d+)?)\")[0].astype(float)"
   ]
  },
  {
   "cell_type": "code",
   "execution_count": 32,
   "id": "a54dcccf",
   "metadata": {},
   "outputs": [
    {
     "name": "stdout",
     "output_type": "stream",
     "text": [
      "        시도명     학교명      급식날짜         에너지     메뉴1       메뉴2       메뉴3  \\\n",
      "0  부산광역시교육청  명호고등학교  20250502  801.4 Kcal     백미밥      미니우동    양배추샐러드   \n",
      "1  부산광역시교육청  명호고등학교  20250507  785.5 Kcal    쌀국수a  베트남식샌드위치     공심채볶음   \n",
      "2  부산광역시교육청  명호고등학교  20250508  816.2 Kcal     현미밥       앙금빵    등뼈감자탕명   \n",
      "3  부산광역시교육청  명호고등학교  20250509  835.5 Kcal  백미밥김가루  미나리버섯칼국수       찐만두   \n",
      "4  부산광역시교육청  명호고등학교  20250512  807.1 Kcal     기장밥     꽃게된장국  메추리알곤약조림   \n",
      "\n",
      "           메뉴4     메뉴5      메뉴6  ... 탄수화물(g) 단백질(g)  지방(g)  비타민A(R.E)  \\\n",
      "0          김자반   국물떡볶이   치킨까스소스  ...   128.2   27.0   21.0      297.9   \n",
      "1    새우짜조롤칠리소스  아이스망고바           ...   117.9   39.0   18.2      266.9   \n",
      "2      두부톳무침추천  비엔나떡볶음  오징어김치전안  ...   118.7   31.5   22.3      250.4   \n",
      "3  오징어어묵무침도시락김     섞박지      초간장  ...   120.9   33.0   23.9      308.9   \n",
      "4       마늘보쌈hj  참나물겉절이       김치  ...   111.2   35.3   24.4      274.5   \n",
      "\n",
      "   티아민(mg)  리보플라빈(mg)  비타민C(mg)  칼슘(mg)  철분(mg)  에너지(kcal)  \n",
      "0      0.6        0.4      36.9   353.1     4.6      801.4  \n",
      "1      0.6        0.5      39.9   418.4     4.8      785.5  \n",
      "2      0.8        0.6      56.3   319.7     4.0      816.2  \n",
      "3      0.4        0.4      34.2   323.0     4.6      835.5  \n",
      "4      0.8        0.6      40.4   517.1     4.7      807.1  \n",
      "\n",
      "[5 rows x 22 columns]\n"
     ]
    }
   ],
   "source": [
    "print(df.head())"
   ]
  },
  {
   "cell_type": "code",
   "execution_count": 33,
   "id": "f51f01b5",
   "metadata": {},
   "outputs": [],
   "source": [
    "df.drop(columns=[\"에너지\"], inplace=True)"
   ]
  },
  {
   "cell_type": "markdown",
   "id": "0b719fbc",
   "metadata": {},
   "source": [
    "### 4. 열 형식 변경"
   ]
  },
  {
   "cell_type": "code",
   "execution_count": 34,
   "id": "429119cd",
   "metadata": {},
   "outputs": [
    {
     "name": "stdout",
     "output_type": "stream",
     "text": [
      "<class 'pandas.core.frame.DataFrame'>\n",
      "Index: 18 entries, 0 to 17\n",
      "Data columns (total 21 columns):\n",
      " #   Column     Non-Null Count  Dtype  \n",
      "---  ------     --------------  -----  \n",
      " 0   시도명        18 non-null     object \n",
      " 1   학교명        18 non-null     object \n",
      " 2   급식날짜       18 non-null     int64  \n",
      " 3   메뉴1        18 non-null     object \n",
      " 4   메뉴2        18 non-null     object \n",
      " 5   메뉴3        18 non-null     object \n",
      " 6   메뉴4        18 non-null     object \n",
      " 7   메뉴5        18 non-null     object \n",
      " 8   메뉴6        18 non-null     object \n",
      " 9   메뉴7        18 non-null     object \n",
      " 10  메뉴8        18 non-null     object \n",
      " 11  탄수화물(g)    18 non-null     float64\n",
      " 12  단백질(g)     18 non-null     float64\n",
      " 13  지방(g)      18 non-null     float64\n",
      " 14  비타민A(R.E)  18 non-null     float64\n",
      " 15  티아민(mg)    18 non-null     float64\n",
      " 16  리보플라빈(mg)  18 non-null     float64\n",
      " 17  비타민C(mg)   18 non-null     float64\n",
      " 18  칼슘(mg)     18 non-null     float64\n",
      " 19  철분(mg)     18 non-null     float64\n",
      " 20  에너지(kcal)  18 non-null     float64\n",
      "dtypes: float64(10), int64(1), object(10)\n",
      "memory usage: 3.1+ KB\n",
      "None\n"
     ]
    }
   ],
   "source": [
    "print(df.info())"
   ]
  },
  {
   "cell_type": "code",
   "execution_count": 35,
   "id": "ad03a169",
   "metadata": {},
   "outputs": [],
   "source": [
    "# 급식날짜 열 별경\n",
    "df[\"급식날짜\"]=pd.to_datetime(df[\"급식날짜\"],format=\"%Y%m%d\")"
   ]
  },
  {
   "cell_type": "code",
   "execution_count": 36,
   "id": "733251e4",
   "metadata": {},
   "outputs": [
    {
     "name": "stdout",
     "output_type": "stream",
     "text": [
      "<class 'pandas.core.frame.DataFrame'>\n",
      "Index: 18 entries, 0 to 17\n",
      "Data columns (total 21 columns):\n",
      " #   Column     Non-Null Count  Dtype         \n",
      "---  ------     --------------  -----         \n",
      " 0   시도명        18 non-null     object        \n",
      " 1   학교명        18 non-null     object        \n",
      " 2   급식날짜       18 non-null     datetime64[ns]\n",
      " 3   메뉴1        18 non-null     object        \n",
      " 4   메뉴2        18 non-null     object        \n",
      " 5   메뉴3        18 non-null     object        \n",
      " 6   메뉴4        18 non-null     object        \n",
      " 7   메뉴5        18 non-null     object        \n",
      " 8   메뉴6        18 non-null     object        \n",
      " 9   메뉴7        18 non-null     object        \n",
      " 10  메뉴8        18 non-null     object        \n",
      " 11  탄수화물(g)    18 non-null     float64       \n",
      " 12  단백질(g)     18 non-null     float64       \n",
      " 13  지방(g)      18 non-null     float64       \n",
      " 14  비타민A(R.E)  18 non-null     float64       \n",
      " 15  티아민(mg)    18 non-null     float64       \n",
      " 16  리보플라빈(mg)  18 non-null     float64       \n",
      " 17  비타민C(mg)   18 non-null     float64       \n",
      " 18  칼슘(mg)     18 non-null     float64       \n",
      " 19  철분(mg)     18 non-null     float64       \n",
      " 20  에너지(kcal)  18 non-null     float64       \n",
      "dtypes: datetime64[ns](1), float64(10), object(10)\n",
      "memory usage: 3.1+ KB\n",
      "None\n"
     ]
    }
   ],
   "source": [
    "print(df.info())"
   ]
  },
  {
   "cell_type": "code",
   "execution_count": 37,
   "id": "e0527e7b",
   "metadata": {},
   "outputs": [
    {
     "name": "stdout",
     "output_type": "stream",
     "text": [
      "        시도명     학교명       급식날짜     메뉴1       메뉴2       메뉴3          메뉴4  \\\n",
      "0  부산광역시교육청  명호고등학교 2025-05-02     백미밥      미니우동    양배추샐러드          김자반   \n",
      "1  부산광역시교육청  명호고등학교 2025-05-07    쌀국수a  베트남식샌드위치     공심채볶음    새우짜조롤칠리소스   \n",
      "2  부산광역시교육청  명호고등학교 2025-05-08     현미밥       앙금빵    등뼈감자탕명      두부톳무침추천   \n",
      "3  부산광역시교육청  명호고등학교 2025-05-09  백미밥김가루  미나리버섯칼국수       찐만두  오징어어묵무침도시락김   \n",
      "4  부산광역시교육청  명호고등학교 2025-05-12     기장밥     꽃게된장국  메추리알곤약조림       마늘보쌈hj   \n",
      "\n",
      "      메뉴5      메뉴6   메뉴7  ... 탄수화물(g)  단백질(g)  지방(g)  비타민A(R.E)  티아민(mg)  \\\n",
      "0   국물떡볶이   치킨까스소스    김치  ...   128.2    27.0   21.0      297.9      0.6   \n",
      "1  아이스망고바                 ...   117.9    39.0   18.2      266.9      0.6   \n",
      "2  비엔나떡볶음  오징어김치전안   깍두기  ...   118.7    31.5   22.3      250.4      0.8   \n",
      "3     섞박지      초간장        ...   120.9    33.0   23.9      308.9      0.4   \n",
      "4  참나물겉절이       김치  요구르트  ...   111.2    35.3   24.4      274.5      0.8   \n",
      "\n",
      "   리보플라빈(mg)  비타민C(mg)  칼슘(mg)  철분(mg)  에너지(kcal)  \n",
      "0        0.4      36.9   353.1     4.6      801.4  \n",
      "1        0.5      39.9   418.4     4.8      785.5  \n",
      "2        0.6      56.3   319.7     4.0      816.2  \n",
      "3        0.4      34.2   323.0     4.6      835.5  \n",
      "4        0.6      40.4   517.1     4.7      807.1  \n",
      "\n",
      "[5 rows x 21 columns]\n"
     ]
    }
   ],
   "source": [
    "print(df.head())"
   ]
  },
  {
   "cell_type": "markdown",
   "id": "ac741a5f",
   "metadata": {},
   "source": [
    "# 4. 다른 파일로 저장"
   ]
  },
  {
   "cell_type": "code",
   "execution_count": 38,
   "id": "a8004b34",
   "metadata": {},
   "outputs": [],
   "source": [
    "# 한글이 깨지지 않게 UTF-8 with BOM 형식 저장\n",
    "df.to_csv('preprocess_school_food_5.csv', index=False, encoding='utf-8-sig')"
   ]
  }
 ],
 "metadata": {
  "kernelspec": {
   "display_name": "Python 3",
   "language": "python",
   "name": "python3"
  },
  "language_info": {
   "codemirror_mode": {
    "name": "ipython",
    "version": 3
   },
   "file_extension": ".py",
   "mimetype": "text/x-python",
   "name": "python",
   "nbconvert_exporter": "python",
   "pygments_lexer": "ipython3",
   "version": "3.10.11"
  }
 },
 "nbformat": 4,
 "nbformat_minor": 5
}
