{
 "cells": [
  {
   "cell_type": "code",
   "execution_count": 1,
   "id": "197a24c7",
   "metadata": {},
   "outputs": [],
   "source": [
    "import pandas as pd\n",
    "import numpy as np"
   ]
  },
  {
   "cell_type": "code",
   "execution_count": 42,
   "id": "cd871d8b",
   "metadata": {},
   "outputs": [],
   "source": [
    "# 엑셀 파일 경로\n",
    "file_path = \"food_data.xlsx\""
   ]
  },
  {
   "cell_type": "code",
   "execution_count": 43,
   "id": "a9babc94",
   "metadata": {},
   "outputs": [],
   "source": [
    "df = pd.read_excel(file_path)"
   ]
  },
  {
   "cell_type": "code",
   "execution_count": 44,
   "id": "524668d1",
   "metadata": {},
   "outputs": [
    {
     "name": "stdout",
     "output_type": "stream",
     "text": [
      "데이터의 기본 정보\n",
      "<class 'pandas.core.frame.DataFrame'>\n",
      "RangeIndex: 400 entries, 0 to 399\n",
      "Data columns (total 16 columns):\n",
      " #   Column     Non-Null Count  Dtype  \n",
      "---  ------     --------------  -----  \n",
      " 0   음 식 명      400 non-null    object \n",
      " 1   중량(g)      400 non-null    float64\n",
      " 2   에너지(kcal)  400 non-null    float64\n",
      " 3   탄수화물(g)    400 non-null    float64\n",
      " 4   당류(g)      400 non-null    float64\n",
      " 5   지방(g)      400 non-null    float64\n",
      " 6   단백질(g)     400 non-null    float64\n",
      " 7   칼슘(mg)     400 non-null    object \n",
      " 8   인(mg)      400 non-null    object \n",
      " 9   나트륨(mg)    400 non-null    float64\n",
      " 10  칼륨(mg)     400 non-null    object \n",
      " 11  마그네슘(mg)   400 non-null    object \n",
      " 12  철(mg)      400 non-null    object \n",
      " 13  아연(mg)     400 non-null    object \n",
      " 14  콜레스테롤(mg)  400 non-null    float64\n",
      " 15  트랜스지방(g)   400 non-null    int64  \n",
      "dtypes: float64(8), int64(1), object(7)\n",
      "memory usage: 50.1+ KB\n",
      "None\n",
      "데이터의 행과 열 개수\n",
      "(400, 16)\n",
      "데이터의 통계적 요약\n",
      "             중량(g)    에너지(kcal)     탄수화물(g)       당류(g)       지방(g)  \\\n",
      "count   400.000000   400.000000  400.000000  400.000000  400.000000   \n",
      "mean    322.425250   330.958890   39.197568    2.663377   11.298881   \n",
      "std     272.686979   244.523624   36.123958    5.484688   12.472310   \n",
      "min      10.000000     3.904200    0.182400    0.000000    0.020400   \n",
      "25%     100.000000   131.996625   10.191300    0.000000    2.364000   \n",
      "50%     220.000000   266.630600   23.824250    0.000000    7.170750   \n",
      "75%     500.000000   507.432000   67.497000    2.997000   16.398500   \n",
      "max    1500.000000  1358.384000  153.785100   57.524000   99.516400   \n",
      "\n",
      "           단백질(g)      나트륨(mg)    콜레스테롤(mg)  트랜스지방(g)  \n",
      "count  400.000000   400.000000   400.000000     400.0  \n",
      "mean    18.284522  1032.394070    97.316529       0.0  \n",
      "std     16.546250   779.904987   153.944099       0.0  \n",
      "min      0.112900     3.392000     0.000000       0.0  \n",
      "25%      5.499500   352.673500     0.000000       0.0  \n",
      "50%     14.673000   867.430800    40.089450       0.0  \n",
      "75%     24.963000  1515.520000   134.722250       0.0  \n",
      "max    114.902000  5290.091000  1480.970000       0.0  \n",
      "데이터의 열 이름\n",
      "Index(['음 식 명', '중량(g)', '에너지(kcal)', '탄수화물(g)', '당류(g)', '지방(g)', '단백질(g)',\n",
      "       '칼슘(mg)', '인(mg)', '나트륨(mg)', '칼륨(mg)', '마그네슘(mg)', '철(mg)', '아연(mg)',\n",
      "       '콜레스테롤(mg)', '트랜스지방(g)'],\n",
      "      dtype='object')\n",
      "데이터의 결측치 확인\n",
      "음 식 명        0\n",
      "중량(g)        0\n",
      "에너지(kcal)    0\n",
      "탄수화물(g)      0\n",
      "당류(g)        0\n",
      "지방(g)        0\n",
      "단백질(g)       0\n",
      "칼슘(mg)       0\n",
      "인(mg)        0\n",
      "나트륨(mg)      0\n",
      "칼륨(mg)       0\n",
      "마그네슘(mg)     0\n",
      "철(mg)        0\n",
      "아연(mg)       0\n",
      "콜레스테롤(mg)    0\n",
      "트랜스지방(g)     0\n",
      "dtype: int64\n",
      "데이터의 중복 확인\n",
      "0\n",
      "데이터의 고유값 확인\n",
      "음 식 명        400\n",
      "중량(g)         33\n",
      "에너지(kcal)    400\n",
      "탄수화물(g)      398\n",
      "당류(g)        163\n",
      "지방(g)        400\n",
      "단백질(g)       400\n",
      "칼슘(mg)       399\n",
      "인(mg)        399\n",
      "나트륨(mg)      399\n",
      "칼륨(mg)       399\n",
      "마그네슘(mg)     117\n",
      "철(mg)        397\n",
      "아연(mg)       396\n",
      "콜레스테롤(mg)    289\n",
      "트랜스지방(g)       1\n",
      "dtype: int64\n",
      "데이터의 데이터 타입 확인\n",
      "음 식 명         object\n",
      "중량(g)        float64\n",
      "에너지(kcal)    float64\n",
      "탄수화물(g)      float64\n",
      "당류(g)        float64\n",
      "지방(g)        float64\n",
      "단백질(g)       float64\n",
      "칼슘(mg)        object\n",
      "인(mg)         object\n",
      "나트륨(mg)      float64\n",
      "칼륨(mg)        object\n",
      "마그네슘(mg)      object\n",
      "철(mg)         object\n",
      "아연(mg)        object\n",
      "콜레스테롤(mg)    float64\n",
      "트랜스지방(g)       int64\n",
      "dtype: object\n"
     ]
    }
   ],
   "source": [
    "# 기본 데이터 이해\n",
    "print(\"데이터의 기본 정보\")\n",
    "print(df.info())\n",
    "# 데이터의 행과 열 개수\n",
    "print(\"데이터의 행과 열 개수\")\n",
    "print(df.shape)\n",
    "# 데이터의 통계적 요약\n",
    "print(\"데이터의 통계적 요약\")\n",
    "print(df.describe())\n",
    "# 데이터의 열 이름\n",
    "print(\"데이터의 열 이름\")\n",
    "print(df.columns)\n",
    "# 데이터의 결측치 확인\n",
    "print(\"데이터의 결측치 확인\")\n",
    "print(df.isnull().sum())\n",
    "# 데이터의 중복 확인\n",
    "print(\"데이터의 중복 확인\")\n",
    "print(df.duplicated().sum())\n",
    "# 데이터의 고유값 개수 확인\n",
    "print(\"데이터의 고유값 확인\")\n",
    "print(df.nunique())\n",
    "# 데이터의 데이터 타입 확인\n",
    "print(\"데이터의 데이터 타입 확인\")\n",
    "print(df.dtypes)\n"
   ]
  },
  {
   "cell_type": "markdown",
   "id": "fadf68d9",
   "metadata": {},
   "source": [
    "# 정제 방향성\n",
    "\n",
    "### 1. 전체 데이터(제목행 포함) 띄어쓰기 제거\n",
    "\n",
    "### 2. 결측치 처리\n",
    "- \"-\" => 0.00 변경\n",
    "\n",
    "### 3. 학교 식단과 매핑(메뉴명 학교st로 바꿈)\n",
    "\n",
    "### 4. SQL문 생성"
   ]
  },
  {
   "cell_type": "markdown",
   "id": "3e2d5ec1",
   "metadata": {},
   "source": [
    "# 1. 띄어쓰기 제거"
   ]
  },
  {
   "cell_type": "code",
   "execution_count": 45,
   "id": "b16a23e3",
   "metadata": {},
   "outputs": [
    {
     "name": "stderr",
     "output_type": "stream",
     "text": [
      "C:\\Users\\SSAFY\\AppData\\Local\\Temp\\ipykernel_13644\\900354131.py:2: FutureWarning: DataFrame.applymap has been deprecated. Use DataFrame.map instead.\n",
      "  df = df.applymap(lambda x: x.replace(\" \", \"\") if isinstance(x, str) else x)\n"
     ]
    }
   ],
   "source": [
    "# value 공백 제거\n",
    "df = df.applymap(lambda x: x.replace(\" \", \"\") if isinstance(x, str) else x)\n",
    "\n",
    "# clumn 공백 제거\n",
    "df.columns = df.columns.str.replace(\" \", \"\")"
   ]
  },
  {
   "cell_type": "code",
   "execution_count": 46,
   "id": "375c6d1d",
   "metadata": {},
   "outputs": [
    {
     "name": "stdout",
     "output_type": "stream",
     "text": [
      "     음식명  중량(g)  에너지(kcal)   탄수화물(g)  당류(g)   지방(g)   단백질(g)  칼슘(mg)    인(mg)  \\\n",
      "0     쌀밥  210.0    334.800   73.7100    0.0  0.4500   5.7600     3.6      126   \n",
      "1  기타잡곡밥  200.0    302.362   65.5211    0.0  0.7462   6.7092   12.06  117.836   \n",
      "2     콩밥  200.0    322.900   65.8460    0.0  1.6660   8.4280    24.7    126.9   \n",
      "3    보리밥  200.0    316.100   70.5700    0.0  0.1400   5.5500     6.7     68.8   \n",
      "4    돌솥밥  350.0    528.855  101.8500    0.0  8.3470  10.1870  61.455   193.72   \n",
      "\n",
      "   나트륨(mg)   칼륨(mg) 마그네슘(mg)   철(mg)  아연(mg)  콜레스테롤(mg)  트랜스지방(g)  \n",
      "0   59.400    146.7        -    0.36    1.35      0.000         0  \n",
      "1    3.392  166.718      6.9  1.7447  1.8264      0.000         0  \n",
      "2    4.100    258.4     22.5    1.74    1.61      0.000         0  \n",
      "3    4.500    100.6        0    1.26    1.41      0.000         0  \n",
      "4  618.315   624.32   57.785   3.321   2.582      2.365         0  \n"
     ]
    }
   ],
   "source": [
    "print(df.head())"
   ]
  },
  {
   "cell_type": "code",
   "execution_count": 47,
   "id": "432742a0",
   "metadata": {},
   "outputs": [
    {
     "name": "stderr",
     "output_type": "stream",
     "text": [
      "C:\\Users\\SSAFY\\AppData\\Local\\Temp\\ipykernel_13644\\3317425579.py:3: FutureWarning: DataFrame.applymap has been deprecated. Use DataFrame.map instead.\n",
      "  df = df.applymap(lambda x: re.sub(r\"\\s+\", \"\", x) if isinstance(x, str) else x)\n"
     ]
    }
   ],
   "source": [
    "# 공백 문자 제거(탭, 줄바꿈 등)\n",
    "import re\n",
    "df = df.applymap(lambda x: re.sub(r\"\\s+\", \"\", x) if isinstance(x, str) else x)\n",
    "df.columns = [re.sub(r\"\\s+\", \"\", col) for col in df.columns]"
   ]
  },
  {
   "cell_type": "code",
   "execution_count": 48,
   "id": "6e650f2f",
   "metadata": {},
   "outputs": [
    {
     "name": "stdout",
     "output_type": "stream",
     "text": [
      "     음식명  중량(g)  에너지(kcal)   탄수화물(g)  당류(g)   지방(g)   단백질(g)  칼슘(mg)    인(mg)  \\\n",
      "0     쌀밥  210.0    334.800   73.7100    0.0  0.4500   5.7600     3.6      126   \n",
      "1  기타잡곡밥  200.0    302.362   65.5211    0.0  0.7462   6.7092   12.06  117.836   \n",
      "2     콩밥  200.0    322.900   65.8460    0.0  1.6660   8.4280    24.7    126.9   \n",
      "3    보리밥  200.0    316.100   70.5700    0.0  0.1400   5.5500     6.7     68.8   \n",
      "4    돌솥밥  350.0    528.855  101.8500    0.0  8.3470  10.1870  61.455   193.72   \n",
      "\n",
      "   나트륨(mg)   칼륨(mg) 마그네슘(mg)   철(mg)  아연(mg)  콜레스테롤(mg)  트랜스지방(g)  \n",
      "0   59.400    146.7        -    0.36    1.35      0.000         0  \n",
      "1    3.392  166.718      6.9  1.7447  1.8264      0.000         0  \n",
      "2    4.100    258.4     22.5    1.74    1.61      0.000         0  \n",
      "3    4.500    100.6        0    1.26    1.41      0.000         0  \n",
      "4  618.315   624.32   57.785   3.321   2.582      2.365         0  \n"
     ]
    }
   ],
   "source": [
    "print(df.head())"
   ]
  },
  {
   "cell_type": "markdown",
   "id": "8876602a",
   "metadata": {},
   "source": [
    "# 2. 결측치 처리"
   ]
  },
  {
   "cell_type": "markdown",
   "id": "c87bf9ba",
   "metadata": {},
   "source": [
    "### 1. 음식명 col 빼고는 모두 numeric\n",
    "음식명 말고 모든 dtype은 float이어야 함"
   ]
  },
  {
   "cell_type": "code",
   "execution_count": 49,
   "id": "430155d9",
   "metadata": {},
   "outputs": [
    {
     "name": "stdout",
     "output_type": "stream",
     "text": [
      "데이터의 기본 정보\n",
      "<class 'pandas.core.frame.DataFrame'>\n",
      "RangeIndex: 400 entries, 0 to 399\n",
      "Data columns (total 16 columns):\n",
      " #   Column     Non-Null Count  Dtype  \n",
      "---  ------     --------------  -----  \n",
      " 0   음식명        400 non-null    object \n",
      " 1   중량(g)      400 non-null    float64\n",
      " 2   에너지(kcal)  400 non-null    float64\n",
      " 3   탄수화물(g)    400 non-null    float64\n",
      " 4   당류(g)      400 non-null    float64\n",
      " 5   지방(g)      400 non-null    float64\n",
      " 6   단백질(g)     400 non-null    float64\n",
      " 7   칼슘(mg)     400 non-null    object \n",
      " 8   인(mg)      400 non-null    object \n",
      " 9   나트륨(mg)    400 non-null    float64\n",
      " 10  칼륨(mg)     400 non-null    object \n",
      " 11  마그네슘(mg)   400 non-null    object \n",
      " 12  철(mg)      400 non-null    object \n",
      " 13  아연(mg)     400 non-null    object \n",
      " 14  콜레스테롤(mg)  400 non-null    float64\n",
      " 15  트랜스지방(g)   400 non-null    int64  \n",
      "dtypes: float64(8), int64(1), object(7)\n",
      "memory usage: 50.1+ KB\n",
      "None\n"
     ]
    }
   ],
   "source": [
    "# dtype 확인\n",
    "print(\"데이터의 기본 정보\")\n",
    "print(df.info())"
   ]
  },
  {
   "cell_type": "code",
   "execution_count": 50,
   "id": "1c7d79b0",
   "metadata": {},
   "outputs": [],
   "source": [
    "# 음식명 제외 dtype 모두 float64로 변환\n",
    "for col in df.columns[1:]:\n",
    "    # 에러 발생 시 NaN으로 변환\n",
    "    df[col] = pd.to_numeric(df[col], errors='coerce')"
   ]
  },
  {
   "cell_type": "code",
   "execution_count": 51,
   "id": "047c0bc7",
   "metadata": {},
   "outputs": [
    {
     "name": "stdout",
     "output_type": "stream",
     "text": [
      "데이터의 결측치 확인\n",
      "음식명            0\n",
      "중량(g)          0\n",
      "에너지(kcal)      0\n",
      "탄수화물(g)        0\n",
      "당류(g)          0\n",
      "지방(g)          0\n",
      "단백질(g)         0\n",
      "칼슘(mg)         2\n",
      "인(mg)          2\n",
      "나트륨(mg)        0\n",
      "칼륨(mg)         2\n",
      "마그네슘(mg)     261\n",
      "철(mg)          2\n",
      "아연(mg)         2\n",
      "콜레스테롤(mg)      0\n",
      "트랜스지방(g)       0\n",
      "dtype: int64\n"
     ]
    }
   ],
   "source": [
    "# 결측치 확인(dtype 변환 후)\n",
    "print(\"데이터의 결측치 확인\")\n",
    "print(df.isnull().sum())"
   ]
  },
  {
   "cell_type": "markdown",
   "id": "468d2392",
   "metadata": {},
   "source": [
    "### 2. -값(NaN) 대체\n",
    "value 중에서 col이 numeric일 때, -값을 0으로 변환"
   ]
  },
  {
   "cell_type": "code",
   "execution_count": 52,
   "id": "4d48fe91",
   "metadata": {},
   "outputs": [],
   "source": [
    "# 수치값 결측치므로 다 0으로 치환\n",
    "df.fillna(0, inplace=True)"
   ]
  },
  {
   "cell_type": "code",
   "execution_count": 53,
   "id": "59ec75b2",
   "metadata": {},
   "outputs": [
    {
     "name": "stdout",
     "output_type": "stream",
     "text": [
      "결측치 처리 후 데이터의 결측치 확인\n",
      "음식명          0\n",
      "중량(g)        0\n",
      "에너지(kcal)    0\n",
      "탄수화물(g)      0\n",
      "당류(g)        0\n",
      "지방(g)        0\n",
      "단백질(g)       0\n",
      "칼슘(mg)       0\n",
      "인(mg)        0\n",
      "나트륨(mg)      0\n",
      "칼륨(mg)       0\n",
      "마그네슘(mg)     0\n",
      "철(mg)        0\n",
      "아연(mg)       0\n",
      "콜레스테롤(mg)    0\n",
      "트랜스지방(g)     0\n",
      "dtype: int64\n"
     ]
    }
   ],
   "source": [
    "print(\"결측치 처리 후 데이터의 결측치 확인\")\n",
    "print(df.isnull().sum())"
   ]
  },
  {
   "cell_type": "code",
   "execution_count": 54,
   "id": "fdeb096c",
   "metadata": {},
   "outputs": [
    {
     "name": "stdout",
     "output_type": "stream",
     "text": [
      "     음식명  중량(g)  에너지(kcal)   탄수화물(g)  당류(g)   지방(g)   단백질(g)  칼슘(mg)    인(mg)  \\\n",
      "0     쌀밥  210.0    334.800   73.7100    0.0  0.4500   5.7600   3.600  126.000   \n",
      "1  기타잡곡밥  200.0    302.362   65.5211    0.0  0.7462   6.7092  12.060  117.836   \n",
      "2     콩밥  200.0    322.900   65.8460    0.0  1.6660   8.4280  24.700  126.900   \n",
      "3    보리밥  200.0    316.100   70.5700    0.0  0.1400   5.5500   6.700   68.800   \n",
      "4    돌솥밥  350.0    528.855  101.8500    0.0  8.3470  10.1870  61.455  193.720   \n",
      "\n",
      "   나트륨(mg)   칼륨(mg)  마그네슘(mg)   철(mg)  아연(mg)  콜레스테롤(mg)  트랜스지방(g)  \n",
      "0   59.400  146.700     0.000  0.3600  1.3500      0.000         0  \n",
      "1    3.392  166.718     6.900  1.7447  1.8264      0.000         0  \n",
      "2    4.100  258.400    22.500  1.7400  1.6100      0.000         0  \n",
      "3    4.500  100.600     0.000  1.2600  1.4100      0.000         0  \n",
      "4  618.315  624.320    57.785  3.3210  2.5820      2.365         0  \n"
     ]
    }
   ],
   "source": [
    "print(df.head())"
   ]
  },
  {
   "cell_type": "markdown",
   "id": "ca2acb7d",
   "metadata": {},
   "source": [
    "### 3. 값이 모두 0이라면 열 제거\n",
    "트랜스지방의 경우 열 값이 모두 0임 -> 의미 없으므로 빼는 게 맞을 듯"
   ]
  },
  {
   "cell_type": "code",
   "execution_count": 55,
   "id": "9f17ac4e",
   "metadata": {},
   "outputs": [
    {
     "name": "stdout",
     "output_type": "stream",
     "text": [
      "데이터의 고유값 확인\n",
      "음식명          400\n",
      "중량(g)         33\n",
      "에너지(kcal)    400\n",
      "탄수화물(g)      398\n",
      "당류(g)        163\n",
      "지방(g)        400\n",
      "단백질(g)       400\n",
      "칼슘(mg)       399\n",
      "인(mg)        399\n",
      "나트륨(mg)      399\n",
      "칼륨(mg)       399\n",
      "마그네슘(mg)     116\n",
      "철(mg)        397\n",
      "아연(mg)       396\n",
      "콜레스테롤(mg)    289\n",
      "트랜스지방(g)       1\n",
      "dtype: int64\n"
     ]
    }
   ],
   "source": [
    "# 데이터의 고유값 개수 확인\n",
    "print(\"데이터의 고유값 확인\")\n",
    "print(df.nunique())"
   ]
  },
  {
   "cell_type": "code",
   "execution_count": 56,
   "id": "96e383c2",
   "metadata": {},
   "outputs": [
    {
     "name": "stdout",
     "output_type": "stream",
     "text": [
      "삭제 후 열 이름\n",
      "Index(['음식명', '중량(g)', '에너지(kcal)', '탄수화물(g)', '당류(g)', '지방(g)', '단백질(g)',\n",
      "       '칼슘(mg)', '인(mg)', '나트륨(mg)', '칼륨(mg)', '마그네슘(mg)', '철(mg)', '아연(mg)',\n",
      "       '콜레스테롤(mg)'],\n",
      "      dtype='object')\n"
     ]
    }
   ],
   "source": [
    "# 만약 unique 값이 [0]이면 그 column은 삭제\n",
    "for col in df.columns[1:]:\n",
    "    if df[col].unique().tolist() == [0]:\n",
    "        df.drop(columns=[col], inplace=True)\n",
    "\n",
    "print(\"삭제 후 열 이름\")\n",
    "print(df.columns)"
   ]
  },
  {
   "cell_type": "markdown",
   "id": "f10592c1",
   "metadata": {},
   "source": [
    "# 3. 학교 식단 이름으로 매핑"
   ]
  },
  {
   "cell_type": "markdown",
   "id": "70c2e17c",
   "metadata": {},
   "source": [
    "### 1. 임시 데이터 다운로드"
   ]
  },
  {
   "cell_type": "code",
   "execution_count": 2,
   "id": "8b2888ad",
   "metadata": {},
   "outputs": [
    {
     "ename": "NameError",
     "evalue": "name 'df' is not defined",
     "output_type": "error",
     "traceback": [
      "\u001b[1;31m---------------------------------------------------------------------------\u001b[0m",
      "\u001b[1;31mNameError\u001b[0m                                 Traceback (most recent call last)",
      "Cell \u001b[1;32mIn[2], line 2\u001b[0m\n\u001b[0;32m      1\u001b[0m \u001b[38;5;66;03m# 한글이 깨지지 않게 UTF-8 with BOM 형식 저장\u001b[39;00m\n\u001b[1;32m----> 2\u001b[0m \u001b[43mdf\u001b[49m\u001b[38;5;241m.\u001b[39mto_csv(\u001b[38;5;124m'\u001b[39m\u001b[38;5;124mpreprocess_food.csv\u001b[39m\u001b[38;5;124m'\u001b[39m, index\u001b[38;5;241m=\u001b[39m\u001b[38;5;28;01mFalse\u001b[39;00m, encoding\u001b[38;5;241m=\u001b[39m\u001b[38;5;124m'\u001b[39m\u001b[38;5;124mutf-8-sig\u001b[39m\u001b[38;5;124m'\u001b[39m)\n",
      "\u001b[1;31mNameError\u001b[0m: name 'df' is not defined"
     ]
    }
   ],
   "source": [
    "# 한글이 깨지지 않게 UTF-8 with BOM 형식 저장\n",
    "df.to_csv('preprocess_food.csv', index=False, encoding='utf-8-sig')"
   ]
  },
  {
   "cell_type": "code",
   "execution_count": 4,
   "id": "6f5a5df7",
   "metadata": {},
   "outputs": [],
   "source": [
    "df = pd.read_csv(\"preprocess_food.csv\")"
   ]
  },
  {
   "cell_type": "code",
   "execution_count": 7,
   "id": "fef2a899",
   "metadata": {},
   "outputs": [
    {
     "name": "stdout",
     "output_type": "stream",
     "text": [
      "     음식명  중량(g)  에너지(kcal)   탄수화물(g)  당류(g)   지방(g)   단백질(g)  칼슘(mg)    인(mg)  \\\n",
      "0     쌀밥  210.0    334.800   73.7100    0.0  0.4500   5.7600   3.600  126.000   \n",
      "1  기타잡곡밥  200.0    302.362   65.5211    0.0  0.7462   6.7092  12.060  117.836   \n",
      "2     콩밥  200.0    322.900   65.8460    0.0  1.6660   8.4280  24.700  126.900   \n",
      "3    보리밥  200.0    316.100   70.5700    0.0  0.1400   5.5500   6.700   68.800   \n",
      "4    돌솥밥  350.0    528.855  101.8500    0.0  8.3470  10.1870  61.455  193.720   \n",
      "\n",
      "   나트륨(mg)   칼륨(mg)  마그네슘(mg)   철(mg)  아연(mg)  콜레스테롤(mg)  \n",
      "0   59.400  146.700     0.000  0.3600  1.3500      0.000  \n",
      "1    3.392  166.718     6.900  1.7447  1.8264      0.000  \n",
      "2    4.100  258.400    22.500  1.7400  1.6100      0.000  \n",
      "3    4.500  100.600     0.000  1.2600  1.4100      0.000  \n",
      "4  618.315  624.320    57.785  3.3210  2.5820      2.365  \n"
     ]
    }
   ],
   "source": [
    "print(df.head())"
   ]
  },
  {
   "cell_type": "markdown",
   "id": "bbcde4d5",
   "metadata": {},
   "source": [
    "### 2. 식단 데이터 로드"
   ]
  },
  {
   "cell_type": "code",
   "execution_count": 5,
   "id": "aee132ff",
   "metadata": {},
   "outputs": [],
   "source": [
    "df_school_food = pd.read_csv(\"preprocess_school_food_5.csv\")"
   ]
  },
  {
   "cell_type": "code",
   "execution_count": 6,
   "id": "d6672b4f",
   "metadata": {},
   "outputs": [
    {
     "name": "stdout",
     "output_type": "stream",
     "text": [
      "        시도명     학교명        급식날짜     메뉴1       메뉴2       메뉴3          메뉴4  \\\n",
      "0  부산광역시교육청  명호고등학교  2025-05-02     백미밥      미니우동    양배추샐러드          김자반   \n",
      "1  부산광역시교육청  명호고등학교  2025-05-07    쌀국수a  베트남식샌드위치     공심채볶음    새우짜조롤칠리소스   \n",
      "2  부산광역시교육청  명호고등학교  2025-05-08     현미밥       앙금빵    등뼈감자탕명      두부톳무침추천   \n",
      "3  부산광역시교육청  명호고등학교  2025-05-09  백미밥김가루  미나리버섯칼국수       찐만두  오징어어묵무침도시락김   \n",
      "4  부산광역시교육청  명호고등학교  2025-05-12     기장밥     꽃게된장국  메추리알곤약조림       마늘보쌈hj   \n",
      "\n",
      "      메뉴5      메뉴6   메뉴7  ... 탄수화물(g)  단백질(g)  지방(g)  비타민A(R.E)  티아민(mg)  \\\n",
      "0   국물떡볶이   치킨까스소스    김치  ...   128.2    27.0   21.0      297.9      0.6   \n",
      "1  아이스망고바      NaN   NaN  ...   117.9    39.0   18.2      266.9      0.6   \n",
      "2  비엔나떡볶음  오징어김치전안   깍두기  ...   118.7    31.5   22.3      250.4      0.8   \n",
      "3     섞박지      초간장   NaN  ...   120.9    33.0   23.9      308.9      0.4   \n",
      "4  참나물겉절이       김치  요구르트  ...   111.2    35.3   24.4      274.5      0.8   \n",
      "\n",
      "   리보플라빈(mg)  비타민C(mg)  칼슘(mg)  철분(mg)  에너지(kcal)  \n",
      "0        0.4      36.9   353.1     4.6      801.4  \n",
      "1        0.5      39.9   418.4     4.8      785.5  \n",
      "2        0.6      56.3   319.7     4.0      816.2  \n",
      "3        0.4      34.2   323.0     4.6      835.5  \n",
      "4        0.6      40.4   517.1     4.7      807.1  \n",
      "\n",
      "[5 rows x 21 columns]\n"
     ]
    }
   ],
   "source": [
    "print(df_school_food.head())"
   ]
  },
  {
   "cell_type": "markdown",
   "id": "bbe67b21",
   "metadata": {},
   "source": [
    "# 5. 비교를 위한 형식으로 변환\n",
    "- 원래 음식명과 학교 식단 비교\n",
    "- 학교 식단에 맞추어 원래 음식명 매칭\n",
    "- 원래 음식명은 삭제"
   ]
  },
  {
   "cell_type": "code",
   "execution_count": 8,
   "id": "fbb6f398",
   "metadata": {},
   "outputs": [],
   "source": [
    "df[\"음식명\"].dropna().unique().tolist()\n",
    "df[\"음식명\"].dropna().to_csv(\"food_name_origin.txt\", index=False, header=False)"
   ]
  },
  {
   "cell_type": "code",
   "execution_count": 9,
   "id": "8195b67b",
   "metadata": {},
   "outputs": [],
   "source": [
    "school_menu_columns = [\"메뉴1\", \"메뉴2\", \"메뉴3\", \"메뉴4\", \"메뉴5\", \"메뉴6\", \"메뉴7\", \"메뉴8\", \"메뉴9\", \"메뉴10\"]\n",
    "\n",
    "menu_cols = [c for c in df_school_food.columns if c.startswith(\"메뉴\")]\n",
    "\n",
    "\n",
    "# 병합 후 고유갑 추출\n",
    "school_menu_list = pd.unique(df_school_food[menu_cols].values.ravel())\n",
    "school_menu_list = pd.Series(school_menu_list).dropna().drop_duplicates().reset_index(drop=True)\n",
    "\n",
    "# txt로 저장\n",
    "school_menu_list.to_csv(\"food_name_school.txt\", index=False, header=False, encoding=\"utf-8-sig\")"
   ]
  },
  {
   "cell_type": "markdown",
   "id": "7dbc26ff",
   "metadata": {},
   "source": [
    "## 5-1. 길이 유사도 기반 이름 매핑"
   ]
  },
  {
   "cell_type": "code",
   "execution_count": 10,
   "id": "4236af47",
   "metadata": {},
   "outputs": [],
   "source": [
    "from difflib import get_close_matches, SequenceMatcher"
   ]
  },
  {
   "cell_type": "code",
   "execution_count": 11,
   "id": "8747c4ea",
   "metadata": {},
   "outputs": [],
   "source": [
    "# 데이터 로드\n",
    "\n",
    "with open(\"food_name_origin.txt\", encoding=\"utf-8\") as f:\n",
    "    origin_names = [line.strip() for line in f if line.strip()]\n",
    "\n",
    "with open(\"food_name_school.txt\", encoding=\"utf-8\") as f:\n",
    "    school_names = [line.strip() for line in f if line.strip()]"
   ]
  },
  {
   "cell_type": "code",
   "execution_count": 12,
   "id": "457b6e3c",
   "metadata": {},
   "outputs": [],
   "source": [
    "# 매핑 함수\n",
    "def get_best_match(name, candidates,\n",
    "                   score_cutoff: float = 0.6,\n",
    "                   substr_ratio: float = 0.5\n",
    "                   ):\n",
    "    \"\"\"\n",
    "    name과 candidates를 순회하며\n",
    "    SequenceMatcher.ratio() 점수\n",
    "    find_longest_match().size 길이\n",
    "    기준으로 가장 좋은 후보를 찾고\n",
    "    두 조건(score_cutoff, substr_ratio) 모두 만족하면 반환\n",
    "    \"\"\"\n",
    "    best = None\n",
    "    best_score = 0.0\n",
    "    best_sub_len = 0\n",
    "\n",
    "    for cand in candidates:\n",
    "        sm = SequenceMatcher(None, name, cand)\n",
    "        score = sm.ratio()\n",
    "        match = sm.find_longest_match(0, len(name), 0, len(cand))\n",
    "        sub_len = match.size\n",
    "\n",
    "        if score > best_score:\n",
    "            best, best_score, best_sub_len = cand, score, sub_len\n",
    "\n",
    "    # 두 조건 모두 만족하면 리턴\n",
    "    if best_score >= score_cutoff and best_sub_len >= len(name) * substr_ratio:\n",
    "        return best, round(best_score, 3), best_sub_len\n",
    "    return None, round(best_score, 3), best_sub_len\n"
   ]
  },
  {
   "cell_type": "code",
   "execution_count": 13,
   "id": "adcbe924",
   "metadata": {},
   "outputs": [],
   "source": [
    "# 매핑 결과 저장\n",
    "mapped_results = []\n",
    "for school in school_names:\n",
    "    best, score, sub_len = get_best_match(school, origin_names)\n",
    "    mapped_results.append({\n",
    "        \"학교식단\": school,\n",
    "        \"음식명\": best,\n",
    "        \"유사도\": score,\n",
    "        \"최장공통문자길이\": sub_len,\n",
    "        \"매칭여부\" : \"매칭\" if best else \"미매칭\"\n",
    "    })"
   ]
  },
  {
   "cell_type": "code",
   "execution_count": 14,
   "id": "0575afc4",
   "metadata": {},
   "outputs": [],
   "source": [
    "df_result = pd.DataFrame(mapped_results)"
   ]
  },
  {
   "cell_type": "code",
   "execution_count": 15,
   "id": "8a710ff4",
   "metadata": {},
   "outputs": [],
   "source": [
    "# 매칭결과 따로 저장\n",
    "df_result.to_csv(\"음식명_매핑결과_5.csv\", index=False, encoding=\"utf-8-sig\")"
   ]
  },
  {
   "cell_type": "markdown",
   "id": "3a1fe979",
   "metadata": {},
   "source": [
    "## 5-2. 의미 유사도 기반 이름 매핑\n",
    " Semantic Model (S-BERT) 사용"
   ]
  },
  {
   "cell_type": "code",
   "execution_count": 16,
   "id": "df156fe8",
   "metadata": {},
   "outputs": [
    {
     "name": "stderr",
     "output_type": "stream",
     "text": [
      "c:\\Users\\SSAFY\\AppData\\Local\\Programs\\Python\\Python310\\lib\\site-packages\\tqdm\\auto.py:21: TqdmWarning: IProgress not found. Please update jupyter and ipywidgets. See https://ipywidgets.readthedocs.io/en/stable/user_install.html\n",
      "  from .autonotebook import tqdm as notebook_tqdm\n"
     ]
    }
   ],
   "source": [
    "# !pip install sentence-transformers\n",
    "\n",
    "import torch\n",
    "from sentence_transformers import SentenceTransformer, util"
   ]
  },
  {
   "cell_type": "code",
   "execution_count": 17,
   "id": "1b67d0a7",
   "metadata": {},
   "outputs": [],
   "source": [
    "model = SentenceTransformer(\"snunlp/KR-SBERT-V40K-klueNLI-augSTS\")"
   ]
  },
  {
   "cell_type": "code",
   "execution_count": 18,
   "id": "d98e8142",
   "metadata": {},
   "outputs": [],
   "source": [
    "# 학교 식단 임베딩\n",
    "school_embeddings = model.encode(school_names, convert_to_tensor=True)"
   ]
  },
  {
   "cell_type": "code",
   "execution_count": 19,
   "id": "3cb7d15e",
   "metadata": {},
   "outputs": [],
   "source": [
    "# semantic 매칭함수\n",
    "def get_semantic_match(name, candidates, candidates_embeds, top_k=1, score_threshold=0.5 ):\n",
    "    \"\"\"\n",
    "    name:      (str) 매칭할 원본 이름\n",
    "    candidates:         학교 식단 리스트\n",
    "    candidates_embeds:  precomputed embeddings for candidates\n",
    "    top_k:              상위 몇 개 후보를 뽑을지\n",
    "    score_threshold:    코사인 유사도 최소 기준 (0~1)\n",
    "    \"\"\"\n",
    "    emb = model.encode(name, convert_to_tensor=True)\n",
    "    # 코사인 유사도 계산\n",
    "    cos_scores = util.cos_sim(emb, candidates_embeds)[0]\n",
    "    # 내림차순 정렬 인덱스\n",
    "    top_results = torch.topk(cos_scores, k=top_k)\n",
    "    matches=[]\n",
    "    for score, idx in zip(top_results.values, top_results.indices):\n",
    "        score = float(score)\n",
    "        idx = int(idx)\n",
    "        if score >= score_threshold:\n",
    "            matches.append((candidates[idx], round(score,3)))\n",
    "    return matches"
   ]
  },
  {
   "cell_type": "code",
   "execution_count": 20,
   "id": "974caf8e",
   "metadata": {},
   "outputs": [],
   "source": [
    "# semantic 매핑 수행\n",
    "semantic_results = []\n",
    "for name in origin_names:\n",
    "    matches = get_semantic_match(name, school_names, school_embeddings,\n",
    "                                 top_k=3, score_threshold=0.6)\n",
    "    # 결과 형식: [(후보1, score1), (후보2, score2), ...]\n",
    "    if matches:\n",
    "        best, best_score = matches[0]\n",
    "        status = \"매칭\"\n",
    "    else:\n",
    "        best, best_score = None, 0.0\n",
    "        status = \"미매칭\"\n",
    "    semantic_results.append({\n",
    "        \"음식명\": name,\n",
    "        \"학교식단\": best,\n",
    "        \"semantic 유사도\": best_score,\n",
    "        \"매칭여부\": status\n",
    "    })"
   ]
  },
  {
   "cell_type": "code",
   "execution_count": 21,
   "id": "bfc7013d",
   "metadata": {},
   "outputs": [],
   "source": [
    "df_sem = pd.DataFrame(semantic_results)\n",
    "df_sem.to_csv(\"음식명_semantic매핑결과_5.csv\", index=False, encoding=\"utf-8-sig\")"
   ]
  },
  {
   "cell_type": "markdown",
   "id": "93a25295",
   "metadata": {},
   "source": [
    "## 5-3. 두 결과 합산"
   ]
  },
  {
   "cell_type": "code",
   "execution_count": 22,
   "id": "74d7e240",
   "metadata": {},
   "outputs": [],
   "source": [
    "import pandas as pd\n",
    "\n",
    "# 두 결과 불러오기\n",
    "df_strict = pd.read_csv(\"음식명_매핑결과_5.csv\", encoding=\"utf-8-sig\")\n",
    "df_sem = pd.read_csv(\"음식명_semantic매핑결과_5.csv\", encoding=\"utf-8-sig\")\n",
    "\n",
    "# 컬럼 이름 정리\n",
    "df_strict = df_strict.rename(columns={\n",
    "    \"음식명\":\"음식명_strict\",\n",
    "    \"유사도\":\"유사도_strict\"\n",
    "})\n",
    "df_sem = df_sem.rename(columns={\n",
    "    \"음식명\":\"음식명_sem\",\n",
    "    \"semantic 유사도\": \"유사도_sem\"\n",
    "})"
   ]
  },
  {
   "cell_type": "code",
   "execution_count": 23,
   "id": "38292d81",
   "metadata": {},
   "outputs": [],
   "source": [
    "# 원래 음식명 기준 merge\n",
    "df_combined = pd.merge(\n",
    "    df_strict[[\"학교식단\",\"음식명_strict\",\"유사도_strict\",\"최장공통문자길이\"]],\n",
    "    df_sem[[\"학교식단\",\"음식명_sem\",\"유사도_sem\"]],\n",
    "    on=\"학교식단\",\n",
    "    how=\"outer\"\n",
    ")\n",
    "\n",
    "# 결측치 빈 문자열 및 0으로 채우기\n",
    "df_combined[[\"음식명_strict\",\"음식명_sem\"]] = df_combined[[\"음식명_strict\",\"음식명_sem\"]].fillna(\"\")\n",
    "df_combined[[\"유사도_strict\",\"유사도_sem\",\"최장공통문자길이\"]] = df_combined[[\"유사도_strict\",\"유사도_sem\",\"최장공통문자길이\"]].fillna(0)"
   ]
  },
  {
   "cell_type": "code",
   "execution_count": 24,
   "id": "3f351164",
   "metadata": {},
   "outputs": [
    {
     "name": "stdout",
     "output_type": "stream",
     "text": [
      "     학교식단 음식명_strict  유사도_strict  최장공통문자길이 음식명_sem  유사도_sem\n",
      "0  감자튀김케첩       감자튀김         0.8       4.0     감자밥    0.764\n",
      "1  감자튀김케첩       감자튀김         0.8       4.0     감자국    0.789\n",
      "2  감자튀김케첩       감자튀김         0.8       4.0     감자탕    0.614\n",
      "3  감자튀김케첩       감자튀김         0.8       4.0     감자전    0.702\n",
      "4  감자튀김케첩       감자튀김         0.8       4.0    감자볶음    0.775\n"
     ]
    }
   ],
   "source": [
    "print(df_combined.head())"
   ]
  },
  {
   "cell_type": "code",
   "execution_count": 25,
   "id": "0544f26c",
   "metadata": {},
   "outputs": [],
   "source": [
    "def pick_final(row, strict_score_thr=0.75, sem_score_thr=0.60):\n",
    "\n",
    "    # 1. strict가 신뢰기준 이상이고, semantic도 일치하면 strict 우선\n",
    "    if row[\"유사도_strict\"] >= strict_score_thr:\n",
    "        return row[\"음식명_strict\"], \"strict\"\n",
    "    # 2. strict가 신뢰기준 미만이고, semantic이 신뢰기준 이상이면 semantic\n",
    "    elif row[\"유사도_sem\"] >= sem_score_thr:\n",
    "        return row[\"음식명_sem\"], \"semantic\"\n",
    "    # 3. 둘 다 낮으면 수동 검토\n",
    "    return None, \"review\"\n",
    "\n",
    "# 최종 추천 + source 칼럼 추가\n",
    "df_combined[[\"최종추천\", \"추천방식\"]] = df_combined.apply(\n",
    "    lambda r: pd.Series(pick_final(r)), axis=1\n",
    ")"
   ]
  },
  {
   "cell_type": "code",
   "execution_count": 26,
   "id": "d0b9967e",
   "metadata": {},
   "outputs": [
    {
     "name": "stdout",
     "output_type": "stream",
     "text": [
      "     학교식단 음식명_strict  유사도_strict  최장공통문자길이 음식명_sem  유사도_sem  최종추천    추천방식\n",
      "0  감자튀김케첩       감자튀김         0.8       4.0     감자밥    0.764  감자튀김  strict\n",
      "1  감자튀김케첩       감자튀김         0.8       4.0     감자국    0.789  감자튀김  strict\n",
      "2  감자튀김케첩       감자튀김         0.8       4.0     감자탕    0.614  감자튀김  strict\n",
      "3  감자튀김케첩       감자튀김         0.8       4.0     감자전    0.702  감자튀김  strict\n",
      "4  감자튀김케첩       감자튀김         0.8       4.0    감자볶음    0.775  감자튀김  strict\n"
     ]
    }
   ],
   "source": [
    "print(df_combined.head())"
   ]
  },
  {
   "cell_type": "code",
   "execution_count": 27,
   "id": "a9544dc8",
   "metadata": {},
   "outputs": [],
   "source": [
    "df_combined.to_csv(\"최종매핑_5.csv\", index=False, encoding=\"utf-8-sig\")"
   ]
  },
  {
   "cell_type": "code",
   "execution_count": 81,
   "id": "686a9f66",
   "metadata": {},
   "outputs": [
    {
     "name": "stdout",
     "output_type": "stream",
     "text": [
      "Detected encoding: EUC-KR\n"
     ]
    }
   ],
   "source": [
    "import chardet\n",
    "\n",
    "# 파일 일부를 읽어 인코딩 감지\n",
    "raw = open(\"최종매핑(수정).csv\", \"rb\").read(10000)\n",
    "enc = chardet.detect(raw)[\"encoding\"]\n",
    "print(\"Detected encoding:\", enc)\n",
    "\n",
    "df_map = pd.read_csv(\"최종매핑(수정).csv\", encoding=enc)\n"
   ]
  },
  {
   "cell_type": "code",
   "execution_count": null,
   "id": "a622c4a2",
   "metadata": {},
   "outputs": [],
   "source": [
    "# df_map.to_csv(\"최종매핑_utf8.csv\", index=False, encoding=\"utf-8-sig\")"
   ]
  },
  {
   "cell_type": "markdown",
   "id": "ae3ffa14",
   "metadata": {},
   "source": [
    "## 5-4. 최종 수정(인력..)"
   ]
  },
  {
   "cell_type": "markdown",
   "id": "6a57e227",
   "metadata": {},
   "source": [
    "결과를 보고 수정할 수 있는 것 수정"
   ]
  },
  {
   "cell_type": "markdown",
   "id": "e6aef86c",
   "metadata": {},
   "source": [
    "## 5-5. 결과 매핑"
   ]
  },
  {
   "cell_type": "code",
   "execution_count": 28,
   "id": "fbe45845",
   "metadata": {},
   "outputs": [],
   "source": [
    "# 최종 튜닝된 매핑 결과\n",
    "df_map = pd.read_csv(\"최종매핑_update_5.csv\", sep=\"\\t\", encoding=\"cp949\")\n",
    "# 전처리된 음식 영양소 데이터\n",
    "df_food = pd.read_csv(\"preprocess_food.csv\", encoding=\"utf-8-sig\")"
   ]
  },
  {
   "cell_type": "code",
   "execution_count": 29,
   "id": "b50533de",
   "metadata": {},
   "outputs": [
    {
     "name": "stdout",
     "output_type": "stream",
     "text": [
      "영양소 컬럼: ['중량(g)', '에너지(kcal)', '탄수화물(g)', '당류(g)', '지방(g)', '단백질(g)', '칼슘(mg)', '인(mg)', '나트륨(mg)', '칼륨(mg)', '마그네슘(mg)', '철(mg)', '아연(mg)', '콜레스테롤(mg)']\n"
     ]
    }
   ],
   "source": [
    "# 영양소로 사용할 숫자형 컬럼 식별\n",
    "nutrient_cols = df_food.select_dtypes(include=['number']).columns.tolist()\n",
    "print(\"영양소 컬럼:\", nutrient_cols)"
   ]
  },
  {
   "cell_type": "code",
   "execution_count": 30,
   "id": "c690e845",
   "metadata": {},
   "outputs": [],
   "source": [
    "food_nut_dict = df_food.set_index(\"음식명\")[nutrient_cols].to_dict(orient=\"index\")"
   ]
  },
  {
   "cell_type": "code",
   "execution_count": 31,
   "id": "0dbcfce3",
   "metadata": {},
   "outputs": [],
   "source": [
    "# 매핑된 이름별 영양소를 리턴\n",
    "def get_nutrients(mapped_name):\n",
    "    \"\"\"\n",
    "    mapped_name: 최종 추천 컬럼 값\n",
    "    - \"대체불가\" 이거나 dict에 없으면 -1\n",
    "    - 그외에는 nutrient_cols 값을 그대로 반환\n",
    "    \"\"\"\n",
    "    if mapped_name == \"대체불가\" or mapped_name not in food_nut_dict:\n",
    "        return {nut: -1 for nut in nutrient_cols }\n",
    "    return food_nut_dict[mapped_name]"
   ]
  },
  {
   "cell_type": "code",
   "execution_count": 32,
   "id": "f998eba1",
   "metadata": {},
   "outputs": [
    {
     "name": "stdout",
     "output_type": "stream",
     "text": [
      "       학교식단 음식명_strict  유사도_strict  최장공통문자길이 음식명_sem  유사도_sem   최종추천      추천방식\n",
      "0    감자튀김케첩       감자튀김       0.800         4     감자밥    0.764   감자튀김    strict\n",
      "1  건새우아욱국표준        NaN       0.462         2     NaN    0.000  근대된장국    review\n",
      "2      검정쌀밥         쌀밥       0.667         2      쌀밥    0.814  기타잡곡밥  semantic\n",
      "3     고구마맛탕      고구마맛탕       1.000         5   고구마맛탕    1.000  고구마맛탕    strict\n",
      "4      고기짬뽕         짬뽕       0.667         2    곤드레밥    0.731     짬뽕  semantic\n"
     ]
    }
   ],
   "source": [
    "print(df_map.head()) "
   ]
  },
  {
   "cell_type": "code",
   "execution_count": 33,
   "id": "d576e428",
   "metadata": {},
   "outputs": [
    {
     "data": {
      "text/html": [
       "<div>\n",
       "<style scoped>\n",
       "    .dataframe tbody tr th:only-of-type {\n",
       "        vertical-align: middle;\n",
       "    }\n",
       "\n",
       "    .dataframe tbody tr th {\n",
       "        vertical-align: top;\n",
       "    }\n",
       "\n",
       "    .dataframe thead th {\n",
       "        text-align: right;\n",
       "    }\n",
       "</style>\n",
       "<table border=\"1\" class=\"dataframe\">\n",
       "  <thead>\n",
       "    <tr style=\"text-align: right;\">\n",
       "      <th></th>\n",
       "      <th>중량(g)</th>\n",
       "      <th>에너지(kcal)</th>\n",
       "      <th>탄수화물(g)</th>\n",
       "      <th>당류(g)</th>\n",
       "      <th>지방(g)</th>\n",
       "      <th>단백질(g)</th>\n",
       "      <th>칼슘(mg)</th>\n",
       "      <th>인(mg)</th>\n",
       "      <th>나트륨(mg)</th>\n",
       "      <th>칼륨(mg)</th>\n",
       "      <th>마그네슘(mg)</th>\n",
       "      <th>철(mg)</th>\n",
       "      <th>아연(mg)</th>\n",
       "      <th>콜레스테롤(mg)</th>\n",
       "    </tr>\n",
       "  </thead>\n",
       "  <tbody>\n",
       "    <tr>\n",
       "      <th>0</th>\n",
       "      <td>150.0</td>\n",
       "      <td>462.1050</td>\n",
       "      <td>50.1000</td>\n",
       "      <td>0.00000</td>\n",
       "      <td>25.7625</td>\n",
       "      <td>6.2400</td>\n",
       "      <td>10.3200</td>\n",
       "      <td>95.4750</td>\n",
       "      <td>374.2185</td>\n",
       "      <td>344.2425</td>\n",
       "      <td>0.0</td>\n",
       "      <td>1.4265</td>\n",
       "      <td>0.4590</td>\n",
       "      <td>0.000</td>\n",
       "    </tr>\n",
       "    <tr>\n",
       "      <th>1</th>\n",
       "      <td>450.0</td>\n",
       "      <td>109.2645</td>\n",
       "      <td>8.1360</td>\n",
       "      <td>0.00000</td>\n",
       "      <td>3.2130</td>\n",
       "      <td>15.3090</td>\n",
       "      <td>621.1035</td>\n",
       "      <td>436.3740</td>\n",
       "      <td>1453.1940</td>\n",
       "      <td>1211.0040</td>\n",
       "      <td>0.0</td>\n",
       "      <td>6.1200</td>\n",
       "      <td>2.3670</td>\n",
       "      <td>112.860</td>\n",
       "    </tr>\n",
       "    <tr>\n",
       "      <th>2</th>\n",
       "      <td>200.0</td>\n",
       "      <td>302.3620</td>\n",
       "      <td>65.5211</td>\n",
       "      <td>0.00000</td>\n",
       "      <td>0.7462</td>\n",
       "      <td>6.7092</td>\n",
       "      <td>12.0600</td>\n",
       "      <td>117.8360</td>\n",
       "      <td>3.3920</td>\n",
       "      <td>166.7180</td>\n",
       "      <td>6.9</td>\n",
       "      <td>1.7447</td>\n",
       "      <td>1.8264</td>\n",
       "      <td>0.000</td>\n",
       "    </tr>\n",
       "    <tr>\n",
       "      <th>3</th>\n",
       "      <td>200.0</td>\n",
       "      <td>490.9275</td>\n",
       "      <td>90.1908</td>\n",
       "      <td>1.43073</td>\n",
       "      <td>13.5324</td>\n",
       "      <td>3.3033</td>\n",
       "      <td>108.3348</td>\n",
       "      <td>94.4664</td>\n",
       "      <td>213.3306</td>\n",
       "      <td>587.2230</td>\n",
       "      <td>0.0</td>\n",
       "      <td>3.6099</td>\n",
       "      <td>1.1319</td>\n",
       "      <td>0.000</td>\n",
       "    </tr>\n",
       "    <tr>\n",
       "      <th>4</th>\n",
       "      <td>1000.0</td>\n",
       "      <td>650.3060</td>\n",
       "      <td>118.5440</td>\n",
       "      <td>0.00000</td>\n",
       "      <td>13.5250</td>\n",
       "      <td>25.5250</td>\n",
       "      <td>82.7410</td>\n",
       "      <td>320.5970</td>\n",
       "      <td>3451.3680</td>\n",
       "      <td>857.4430</td>\n",
       "      <td>32.8</td>\n",
       "      <td>4.6050</td>\n",
       "      <td>3.5550</td>\n",
       "      <td>105.225</td>\n",
       "    </tr>\n",
       "  </tbody>\n",
       "</table>\n",
       "</div>"
      ],
      "text/plain": [
       "    중량(g)  에너지(kcal)   탄수화물(g)    당류(g)    지방(g)   단백질(g)    칼슘(mg)     인(mg)  \\\n",
       "0   150.0   462.1050   50.1000  0.00000  25.7625   6.2400   10.3200   95.4750   \n",
       "1   450.0   109.2645    8.1360  0.00000   3.2130  15.3090  621.1035  436.3740   \n",
       "2   200.0   302.3620   65.5211  0.00000   0.7462   6.7092   12.0600  117.8360   \n",
       "3   200.0   490.9275   90.1908  1.43073  13.5324   3.3033  108.3348   94.4664   \n",
       "4  1000.0   650.3060  118.5440  0.00000  13.5250  25.5250   82.7410  320.5970   \n",
       "\n",
       "     나트륨(mg)     칼륨(mg)  마그네슘(mg)   철(mg)  아연(mg)  콜레스테롤(mg)  \n",
       "0   374.2185   344.2425       0.0  1.4265  0.4590      0.000  \n",
       "1  1453.1940  1211.0040       0.0  6.1200  2.3670    112.860  \n",
       "2     3.3920   166.7180       6.9  1.7447  1.8264      0.000  \n",
       "3   213.3306   587.2230       0.0  3.6099  1.1319      0.000  \n",
       "4  3451.3680   857.4430      32.8  4.6050  3.5550    105.225  "
      ]
     },
     "metadata": {},
     "output_type": "display_data"
    }
   ],
   "source": [
    "# df_map에 영양소 컬럼 추가\n",
    "nut_df = df_map[\"최종추천\"].apply(get_nutrients).apply(pd.Series)\n",
    "\n",
    "display(nut_df.head())"
   ]
  },
  {
   "cell_type": "code",
   "execution_count": 34,
   "id": "44916729",
   "metadata": {},
   "outputs": [
    {
     "data": {
      "text/html": [
       "<div>\n",
       "<style scoped>\n",
       "    .dataframe tbody tr th:only-of-type {\n",
       "        vertical-align: middle;\n",
       "    }\n",
       "\n",
       "    .dataframe tbody tr th {\n",
       "        vertical-align: top;\n",
       "    }\n",
       "\n",
       "    .dataframe thead th {\n",
       "        text-align: right;\n",
       "    }\n",
       "</style>\n",
       "<table border=\"1\" class=\"dataframe\">\n",
       "  <thead>\n",
       "    <tr style=\"text-align: right;\">\n",
       "      <th></th>\n",
       "      <th>학교식단</th>\n",
       "      <th>음식명_strict</th>\n",
       "      <th>유사도_strict</th>\n",
       "      <th>최장공통문자길이</th>\n",
       "      <th>음식명_sem</th>\n",
       "      <th>유사도_sem</th>\n",
       "      <th>최종추천</th>\n",
       "      <th>추천방식</th>\n",
       "      <th>중량(g)</th>\n",
       "      <th>에너지(kcal)</th>\n",
       "      <th>...</th>\n",
       "      <th>지방(g)</th>\n",
       "      <th>단백질(g)</th>\n",
       "      <th>칼슘(mg)</th>\n",
       "      <th>인(mg)</th>\n",
       "      <th>나트륨(mg)</th>\n",
       "      <th>칼륨(mg)</th>\n",
       "      <th>마그네슘(mg)</th>\n",
       "      <th>철(mg)</th>\n",
       "      <th>아연(mg)</th>\n",
       "      <th>콜레스테롤(mg)</th>\n",
       "    </tr>\n",
       "  </thead>\n",
       "  <tbody>\n",
       "    <tr>\n",
       "      <th>0</th>\n",
       "      <td>감자튀김케첩</td>\n",
       "      <td>감자튀김</td>\n",
       "      <td>0.800</td>\n",
       "      <td>4</td>\n",
       "      <td>감자밥</td>\n",
       "      <td>0.764</td>\n",
       "      <td>감자튀김</td>\n",
       "      <td>strict</td>\n",
       "      <td>150.0</td>\n",
       "      <td>462.1050</td>\n",
       "      <td>...</td>\n",
       "      <td>25.7625</td>\n",
       "      <td>6.2400</td>\n",
       "      <td>10.3200</td>\n",
       "      <td>95.4750</td>\n",
       "      <td>374.2185</td>\n",
       "      <td>344.2425</td>\n",
       "      <td>0.0</td>\n",
       "      <td>1.4265</td>\n",
       "      <td>0.4590</td>\n",
       "      <td>0.000</td>\n",
       "    </tr>\n",
       "    <tr>\n",
       "      <th>1</th>\n",
       "      <td>건새우아욱국표준</td>\n",
       "      <td>NaN</td>\n",
       "      <td>0.462</td>\n",
       "      <td>2</td>\n",
       "      <td>NaN</td>\n",
       "      <td>0.000</td>\n",
       "      <td>근대된장국</td>\n",
       "      <td>review</td>\n",
       "      <td>450.0</td>\n",
       "      <td>109.2645</td>\n",
       "      <td>...</td>\n",
       "      <td>3.2130</td>\n",
       "      <td>15.3090</td>\n",
       "      <td>621.1035</td>\n",
       "      <td>436.3740</td>\n",
       "      <td>1453.1940</td>\n",
       "      <td>1211.0040</td>\n",
       "      <td>0.0</td>\n",
       "      <td>6.1200</td>\n",
       "      <td>2.3670</td>\n",
       "      <td>112.860</td>\n",
       "    </tr>\n",
       "    <tr>\n",
       "      <th>2</th>\n",
       "      <td>검정쌀밥</td>\n",
       "      <td>쌀밥</td>\n",
       "      <td>0.667</td>\n",
       "      <td>2</td>\n",
       "      <td>쌀밥</td>\n",
       "      <td>0.814</td>\n",
       "      <td>기타잡곡밥</td>\n",
       "      <td>semantic</td>\n",
       "      <td>200.0</td>\n",
       "      <td>302.3620</td>\n",
       "      <td>...</td>\n",
       "      <td>0.7462</td>\n",
       "      <td>6.7092</td>\n",
       "      <td>12.0600</td>\n",
       "      <td>117.8360</td>\n",
       "      <td>3.3920</td>\n",
       "      <td>166.7180</td>\n",
       "      <td>6.9</td>\n",
       "      <td>1.7447</td>\n",
       "      <td>1.8264</td>\n",
       "      <td>0.000</td>\n",
       "    </tr>\n",
       "    <tr>\n",
       "      <th>3</th>\n",
       "      <td>고구마맛탕</td>\n",
       "      <td>고구마맛탕</td>\n",
       "      <td>1.000</td>\n",
       "      <td>5</td>\n",
       "      <td>고구마맛탕</td>\n",
       "      <td>1.000</td>\n",
       "      <td>고구마맛탕</td>\n",
       "      <td>strict</td>\n",
       "      <td>200.0</td>\n",
       "      <td>490.9275</td>\n",
       "      <td>...</td>\n",
       "      <td>13.5324</td>\n",
       "      <td>3.3033</td>\n",
       "      <td>108.3348</td>\n",
       "      <td>94.4664</td>\n",
       "      <td>213.3306</td>\n",
       "      <td>587.2230</td>\n",
       "      <td>0.0</td>\n",
       "      <td>3.6099</td>\n",
       "      <td>1.1319</td>\n",
       "      <td>0.000</td>\n",
       "    </tr>\n",
       "    <tr>\n",
       "      <th>4</th>\n",
       "      <td>고기짬뽕</td>\n",
       "      <td>짬뽕</td>\n",
       "      <td>0.667</td>\n",
       "      <td>2</td>\n",
       "      <td>곤드레밥</td>\n",
       "      <td>0.731</td>\n",
       "      <td>짬뽕</td>\n",
       "      <td>semantic</td>\n",
       "      <td>1000.0</td>\n",
       "      <td>650.3060</td>\n",
       "      <td>...</td>\n",
       "      <td>13.5250</td>\n",
       "      <td>25.5250</td>\n",
       "      <td>82.7410</td>\n",
       "      <td>320.5970</td>\n",
       "      <td>3451.3680</td>\n",
       "      <td>857.4430</td>\n",
       "      <td>32.8</td>\n",
       "      <td>4.6050</td>\n",
       "      <td>3.5550</td>\n",
       "      <td>105.225</td>\n",
       "    </tr>\n",
       "  </tbody>\n",
       "</table>\n",
       "<p>5 rows × 22 columns</p>\n",
       "</div>"
      ],
      "text/plain": [
       "       학교식단 음식명_strict  유사도_strict  최장공통문자길이 음식명_sem  유사도_sem   최종추천  \\\n",
       "0    감자튀김케첩       감자튀김       0.800         4     감자밥    0.764   감자튀김   \n",
       "1  건새우아욱국표준        NaN       0.462         2     NaN    0.000  근대된장국   \n",
       "2      검정쌀밥         쌀밥       0.667         2      쌀밥    0.814  기타잡곡밥   \n",
       "3     고구마맛탕      고구마맛탕       1.000         5   고구마맛탕    1.000  고구마맛탕   \n",
       "4      고기짬뽕         짬뽕       0.667         2    곤드레밥    0.731     짬뽕   \n",
       "\n",
       "       추천방식   중량(g)  에너지(kcal)  ...    지방(g)   단백질(g)    칼슘(mg)     인(mg)  \\\n",
       "0    strict   150.0   462.1050  ...  25.7625   6.2400   10.3200   95.4750   \n",
       "1    review   450.0   109.2645  ...   3.2130  15.3090  621.1035  436.3740   \n",
       "2  semantic   200.0   302.3620  ...   0.7462   6.7092   12.0600  117.8360   \n",
       "3    strict   200.0   490.9275  ...  13.5324   3.3033  108.3348   94.4664   \n",
       "4  semantic  1000.0   650.3060  ...  13.5250  25.5250   82.7410  320.5970   \n",
       "\n",
       "     나트륨(mg)     칼륨(mg)  마그네슘(mg)   철(mg)  아연(mg)  콜레스테롤(mg)  \n",
       "0   374.2185   344.2425       0.0  1.4265  0.4590      0.000  \n",
       "1  1453.1940  1211.0040       0.0  6.1200  2.3670    112.860  \n",
       "2     3.3920   166.7180       6.9  1.7447  1.8264      0.000  \n",
       "3   213.3306   587.2230       0.0  3.6099  1.1319      0.000  \n",
       "4  3451.3680   857.4430      32.8  4.6050  3.5550    105.225  \n",
       "\n",
       "[5 rows x 22 columns]"
      ]
     },
     "metadata": {},
     "output_type": "display_data"
    }
   ],
   "source": [
    "# 원본 매핑 테이블과 영양소 데이터를 병합\n",
    "df_final = pd.concat([df_map, nut_df], axis=1)\n",
    "\n",
    "display(df_final.head())"
   ]
  },
  {
   "cell_type": "code",
   "execution_count": 35,
   "id": "37991fda",
   "metadata": {},
   "outputs": [],
   "source": [
    "# 공백제거\n",
    "df_final.columns = df_final.columns.str.strip()\n"
   ]
  },
  {
   "cell_type": "code",
   "execution_count": 36,
   "id": "c2ee374b",
   "metadata": {},
   "outputs": [
    {
     "name": "stdout",
     "output_type": "stream",
     "text": [
      "Index(['학교식단', '음식명_strict', '유사도_strict', '최장공통문자길이', '음식명_sem', '유사도_sem',\n",
      "       '최종추천', '추천방식', '중량(g)', '에너지(kcal)', '탄수화물(g)', '당류(g)', '지방(g)',\n",
      "       '단백질(g)', '칼슘(mg)', '인(mg)', '나트륨(mg)', '칼륨(mg)', '마그네슘(mg)', '철(mg)',\n",
      "       '아연(mg)', '콜레스테롤(mg)'],\n",
      "      dtype='object')\n"
     ]
    }
   ],
   "source": [
    "print(df_final.columns)"
   ]
  },
  {
   "cell_type": "code",
   "execution_count": 37,
   "id": "82590fce",
   "metadata": {},
   "outputs": [
    {
     "name": "stdout",
     "output_type": "stream",
     "text": [
      "Index(['학교식단', '최종추천', '중량(g)', '에너지(kcal)', '탄수화물(g)', '당류(g)', '지방(g)',\n",
      "       '단백질(g)', '칼슘(mg)', '인(mg)', '나트륨(mg)', '칼륨(mg)', '마그네슘(mg)', '철(mg)',\n",
      "       '아연(mg)', '콜레스테롤(mg)'],\n",
      "      dtype='object')\n"
     ]
    }
   ],
   "source": [
    "# 필요없는 열 제거\n",
    "del_columns = [\"음식명_strict\",\"유사도_strict\",\"최장공통문자길이\",\"음식명_sem\",\"유사도_sem\",\"추천방식\"]\n",
    "df_final.drop(columns=del_columns, inplace=True)\n",
    "print(df_final.columns)"
   ]
  },
  {
   "cell_type": "code",
   "execution_count": 38,
   "id": "33cc8d2c",
   "metadata": {},
   "outputs": [
    {
     "name": "stdout",
     "output_type": "stream",
     "text": [
      "Index(['학교식단', '음식명', '중량(g)', '에너지(kcal)', '탄수화물(g)', '당류(g)', '지방(g)',\n",
      "       '단백질(g)', '칼슘(mg)', '인(mg)', '나트륨(mg)', '칼륨(mg)', '마그네슘(mg)', '철(mg)',\n",
      "       '아연(mg)', '콜레스테롤(mg)'],\n",
      "      dtype='object')\n"
     ]
    }
   ],
   "source": [
    "# 최종추천 열 이름 변경\n",
    "df_final.rename(columns={\"최종추천\":\"음식명\"},inplace=True)\n",
    "print(df_final.columns)"
   ]
  },
  {
   "cell_type": "code",
   "execution_count": 39,
   "id": "90505479",
   "metadata": {},
   "outputs": [],
   "source": [
    "df_final.to_csv(\"result_school_food_to_food_5.csv\", index=False, encoding=\"utf-8-sig\")"
   ]
  },
  {
   "cell_type": "markdown",
   "id": "62d80837",
   "metadata": {},
   "source": [
    "# 6. 최종 연결"
   ]
  },
  {
   "cell_type": "code",
   "execution_count": 41,
   "id": "7a72b8a9",
   "metadata": {},
   "outputs": [],
   "source": [
    "df_school =pd.read_csv(\"preprocess_school_food_5.csv\")\n",
    "df_nut = pd.read_csv(\"result_school_food_to_food_5.csv\")\n",
    "# df_nut = pd.read_csv(\"result_school_food_to_food_5.csv\", sep=\"\\t\", encoding=\"cp949\")"
   ]
  },
  {
   "cell_type": "code",
   "execution_count": 42,
   "id": "766f1880",
   "metadata": {},
   "outputs": [
    {
     "name": "stdout",
     "output_type": "stream",
     "text": [
      "        시도명     학교명        급식날짜     메뉴1       메뉴2       메뉴3          메뉴4  \\\n",
      "0  부산광역시교육청  명호고등학교  2025-05-02     백미밥      미니우동    양배추샐러드          김자반   \n",
      "1  부산광역시교육청  명호고등학교  2025-05-07    쌀국수a  베트남식샌드위치     공심채볶음    새우짜조롤칠리소스   \n",
      "2  부산광역시교육청  명호고등학교  2025-05-08     현미밥       앙금빵    등뼈감자탕명      두부톳무침추천   \n",
      "3  부산광역시교육청  명호고등학교  2025-05-09  백미밥김가루  미나리버섯칼국수       찐만두  오징어어묵무침도시락김   \n",
      "4  부산광역시교육청  명호고등학교  2025-05-12     기장밥     꽃게된장국  메추리알곤약조림       마늘보쌈hj   \n",
      "\n",
      "      메뉴5      메뉴6   메뉴7  ... 탄수화물(g)  단백질(g)  지방(g)  비타민A(R.E)  티아민(mg)  \\\n",
      "0   국물떡볶이   치킨까스소스    김치  ...   128.2    27.0   21.0      297.9      0.6   \n",
      "1  아이스망고바      NaN   NaN  ...   117.9    39.0   18.2      266.9      0.6   \n",
      "2  비엔나떡볶음  오징어김치전안   깍두기  ...   118.7    31.5   22.3      250.4      0.8   \n",
      "3     섞박지      초간장   NaN  ...   120.9    33.0   23.9      308.9      0.4   \n",
      "4  참나물겉절이       김치  요구르트  ...   111.2    35.3   24.4      274.5      0.8   \n",
      "\n",
      "   리보플라빈(mg)  비타민C(mg)  칼슘(mg)  철분(mg)  에너지(kcal)  \n",
      "0        0.4      36.9   353.1     4.6      801.4  \n",
      "1        0.5      39.9   418.4     4.8      785.5  \n",
      "2        0.6      56.3   319.7     4.0      816.2  \n",
      "3        0.4      34.2   323.0     4.6      835.5  \n",
      "4        0.6      40.4   517.1     4.7      807.1  \n",
      "\n",
      "[5 rows x 21 columns]\n"
     ]
    }
   ],
   "source": [
    "print(df_school.head())"
   ]
  },
  {
   "cell_type": "code",
   "execution_count": 43,
   "id": "2f657126",
   "metadata": {},
   "outputs": [],
   "source": [
    "# 2. 메뉴 컬럼만 melt (또는 reshape)\n",
    "menu_cols = [col for col in df_school.columns if col.startswith(\"메뉴\")]\n",
    "\n",
    "# 한 행의 여러 메뉴를 한 행에 한 메뉴로 풀기\n",
    "df_melted = df_school.melt(\n",
    "    id_vars=[\"시도명\", \"학교명\", \"급식날짜\"],\n",
    "    value_vars=menu_cols,\n",
    "    var_name=\"메뉴컬럼\",\n",
    "    value_name=\"메뉴명\"\n",
    ").dropna(subset=[\"메뉴명\"])"
   ]
  },
  {
   "cell_type": "code",
   "execution_count": 44,
   "id": "0f8fbaea",
   "metadata": {},
   "outputs": [
    {
     "name": "stdout",
     "output_type": "stream",
     "text": [
      "Index(['학교식단', '음식명', '중량(g)', '에너지(kcal)', '탄수화물(g)', '당류(g)', '지방(g)',\n",
      "       '단백질(g)', '칼슘(mg)', '인(mg)', '나트륨(mg)', '칼륨(mg)', '마그네슘(mg)', '철(mg)',\n",
      "       '아연(mg)', '콜레스테롤(mg)'],\n",
      "      dtype='object')\n"
     ]
    }
   ],
   "source": [
    "print(df_nut.columns)"
   ]
  },
  {
   "cell_type": "code",
   "execution_count": 45,
   "id": "abe4d45b",
   "metadata": {},
   "outputs": [
    {
     "name": "stdout",
     "output_type": "stream",
     "text": [
      "       학교식단    음식명   중량(g)  에너지(kcal)   탄수화물(g)    당류(g)    지방(g)   단백질(g)  \\\n",
      "0    감자튀김케첩   감자튀김   150.0   462.1050   50.1000  0.00000  25.7625   6.2400   \n",
      "1  건새우아욱국표준  근대된장국   450.0   109.2645    8.1360  0.00000   3.2130  15.3090   \n",
      "2      검정쌀밥  기타잡곡밥   200.0   302.3620   65.5211  0.00000   0.7462   6.7092   \n",
      "3     고구마맛탕  고구마맛탕   200.0   490.9275   90.1908  1.43073  13.5324   3.3033   \n",
      "4      고기짬뽕     짬뽕  1000.0   650.3060  118.5440  0.00000  13.5250  25.5250   \n",
      "\n",
      "     칼슘(mg)     인(mg)    나트륨(mg)     칼륨(mg)  마그네슘(mg)   철(mg)  아연(mg)  \\\n",
      "0   10.3200   95.4750   374.2185   344.2425       0.0  1.4265  0.4590   \n",
      "1  621.1035  436.3740  1453.1940  1211.0040       0.0  6.1200  2.3670   \n",
      "2   12.0600  117.8360     3.3920   166.7180       6.9  1.7447  1.8264   \n",
      "3  108.3348   94.4664   213.3306   587.2230       0.0  3.6099  1.1319   \n",
      "4   82.7410  320.5970  3451.3680   857.4430      32.8  4.6050  3.5550   \n",
      "\n",
      "   콜레스테롤(mg)  \n",
      "0      0.000  \n",
      "1    112.860  \n",
      "2      0.000  \n",
      "3      0.000  \n",
      "4    105.225  \n"
     ]
    }
   ],
   "source": [
    "print(df_nut.head())"
   ]
  },
  {
   "cell_type": "code",
   "execution_count": 46,
   "id": "c381b64e",
   "metadata": {},
   "outputs": [
    {
     "name": "stdout",
     "output_type": "stream",
     "text": [
      "        시도명     학교명        급식날짜 메뉴컬럼     메뉴명\n",
      "0  부산광역시교육청  명호고등학교  2025-05-02  메뉴1     백미밥\n",
      "1  부산광역시교육청  명호고등학교  2025-05-07  메뉴1    쌀국수a\n",
      "2  부산광역시교육청  명호고등학교  2025-05-08  메뉴1     현미밥\n",
      "3  부산광역시교육청  명호고등학교  2025-05-09  메뉴1  백미밥김가루\n",
      "4  부산광역시교육청  명호고등학교  2025-05-12  메뉴1     기장밥\n",
      "Index(['시도명', '학교명', '급식날짜', '메뉴컬럼', '메뉴명'], dtype='object')\n"
     ]
    }
   ],
   "source": [
    "print(df_melted.head())\n",
    "print(df_melted.columns)"
   ]
  },
  {
   "cell_type": "code",
   "execution_count": 47,
   "id": "a0d27668",
   "metadata": {},
   "outputs": [],
   "source": [
    "# 3. 영양소 매핑된 메뉴정보 병합\n",
    "df_merged = pd.merge(df_melted, df_nut, how=\"left\", left_on=\"메뉴명\", right_on=\"학교식단\")"
   ]
  },
  {
   "cell_type": "code",
   "execution_count": 48,
   "id": "221fe12e",
   "metadata": {},
   "outputs": [],
   "source": [
    "# 4. 필요 없는 컬럼 제거 + 컬럼 순서 정리\n",
    "final_cols = [\"시도명\", \"학교명\", \"급식날짜\", \"메뉴명\"] + [col for col in df_nut.columns if col != \"메뉴명\"]\n",
    "df_final = df_merged[final_cols]"
   ]
  },
  {
   "cell_type": "code",
   "execution_count": 49,
   "id": "5b056b81",
   "metadata": {},
   "outputs": [
    {
     "name": "stdout",
     "output_type": "stream",
     "text": [
      "        시도명     학교명        급식날짜     메뉴명    학교식단    음식명  중량(g)  에너지(kcal)  \\\n",
      "0  부산광역시교육청  명호고등학교  2025-05-02     백미밥     NaN    NaN    NaN        NaN   \n",
      "1  부산광역시교육청  명호고등학교  2025-05-07    쌀국수a    쌀국수a    쌀국수  600.0    321.335   \n",
      "2  부산광역시교육청  명호고등학교  2025-05-08     현미밥     현미밥    현미밥  230.0    351.350   \n",
      "3  부산광역시교육청  명호고등학교  2025-05-09  백미밥김가루  백미밥김가루  기타잡곡밥  200.0    302.362   \n",
      "4  부산광역시교육청  명호고등학교  2025-05-12     기장밥     기장밥  기타잡곡밥  200.0    302.362   \n",
      "\n",
      "   탄수화물(g)  당류(g)   지방(g)   단백질(g)  칼슘(mg)    인(mg)   나트륨(mg)   칼륨(mg)  \\\n",
      "0      NaN    NaN     NaN      NaN     NaN      NaN       NaN      NaN   \n",
      "1  46.1980  2.198  5.8140  21.8480  45.016  184.223  2032.165  360.686   \n",
      "2  77.8771  0.000  1.1021   6.6576   6.006  178.279    42.079  209.326   \n",
      "3  65.5211  0.000  0.7462   6.7092  12.060  117.836     3.392  166.718   \n",
      "4  65.5211  0.000  0.7462   6.7092  12.060  117.836     3.392  166.718   \n",
      "\n",
      "   마그네슘(mg)   철(mg)  아연(mg)  콜레스테롤(mg)  \n",
      "0       NaN     NaN     NaN        NaN  \n",
      "1     48.04  3.2050  4.8940     123.03  \n",
      "2      0.00  1.0507  1.6518       0.00  \n",
      "3      6.90  1.7447  1.8264       0.00  \n",
      "4      6.90  1.7447  1.8264       0.00  \n"
     ]
    }
   ],
   "source": [
    "print(df_final.head())"
   ]
  },
  {
   "cell_type": "code",
   "execution_count": 50,
   "id": "19026de6",
   "metadata": {},
   "outputs": [
    {
     "name": "stderr",
     "output_type": "stream",
     "text": [
      "C:\\Users\\SSAFY\\AppData\\Local\\Temp\\ipykernel_22292\\2397866426.py:2: SettingWithCopyWarning: \n",
      "A value is trying to be set on a copy of a slice from a DataFrame\n",
      "\n",
      "See the caveats in the documentation: https://pandas.pydata.org/pandas-docs/stable/user_guide/indexing.html#returning-a-view-versus-a-copy\n",
      "  df_final.rename(columns={\"메뉴명\":\"메뉴이름\"},inplace=True)\n"
     ]
    }
   ],
   "source": [
    "# DB에 맞게 열 변경\n",
    "df_final.rename(columns={\"메뉴명\":\"메뉴이름\"},inplace=True)"
   ]
  },
  {
   "cell_type": "code",
   "execution_count": 51,
   "id": "9273baa9",
   "metadata": {},
   "outputs": [
    {
     "name": "stderr",
     "output_type": "stream",
     "text": [
      "C:\\Users\\SSAFY\\AppData\\Local\\Temp\\ipykernel_22292\\2777151669.py:2: SettingWithCopyWarning: \n",
      "A value is trying to be set on a copy of a slice from a DataFrame\n",
      "\n",
      "See the caveats in the documentation: https://pandas.pydata.org/pandas-docs/stable/user_guide/indexing.html#returning-a-view-versus-a-copy\n",
      "  df_final.drop(columns=[\"학교식단\", \"음식명\"], inplace=True)\n"
     ]
    }
   ],
   "source": [
    "# 불필요 열 삭제\n",
    "df_final.drop(columns=[\"학교식단\", \"음식명\"], inplace=True)"
   ]
  },
  {
   "cell_type": "code",
   "execution_count": 52,
   "id": "46799a68",
   "metadata": {},
   "outputs": [],
   "source": [
    "# 대체불가 값 제거\n",
    "df_final = df_final[df_final[\"중량(g)\"] != -1]"
   ]
  },
  {
   "cell_type": "code",
   "execution_count": 53,
   "id": "d20cb39e",
   "metadata": {},
   "outputs": [],
   "source": [
    "df_final.to_csv(\"final_school_food_5.csv\", encoding=\"utf-8-sig\")"
   ]
  },
  {
   "cell_type": "markdown",
   "id": "ada5c87b",
   "metadata": {},
   "source": [
    "#### 참고\n",
    "- csv를 수정하면 파일이 깨짐(쉼표 구분이 아니라 탭 구분이 되어 버림)\n",
    "- 아래는 그럴 때 사용할 수 있는 인코딩 코드"
   ]
  },
  {
   "cell_type": "code",
   "execution_count": 55,
   "id": "98013416",
   "metadata": {},
   "outputs": [
    {
     "name": "stdout",
     "output_type": "stream",
     "text": [
      "{'encoding': 'EUC-KR', 'confidence': 0.7842502696871629, 'language': 'Korean'}\n"
     ]
    }
   ],
   "source": [
    "import chardet\n",
    "\n",
    "# 파일 일부를 읽어 인코딩 감지\n",
    "with open(\"final_school_food_5.csv\", \"rb\") as f:\n",
    "    result_1 = chardet.detect(f.read())\n",
    "\n",
    "print(result_1)\n",
    "\n",
    "# enc = chardet.detect(raw)[\"encoding\"]\n",
    "# print(\"Detected encoding:\", enc)\n",
    "\n",
    "# df_map = pd.read_csv(\"final_school_food_5.csv\", encoding=enc)"
   ]
  },
  {
   "cell_type": "code",
   "execution_count": null,
   "id": "d1a91766",
   "metadata": {},
   "outputs": [],
   "source": [
    "df_12 = pd.read_csv(\"final_school_food_5.csv\", encoding='EUC-KR')\n",
    "df_12.to_csv(\"final_school_food_5_up.csv\", encoding=\"utf-8\", index=False)"
   ]
  },
  {
   "cell_type": "code",
   "execution_count": 58,
   "id": "2277a59c",
   "metadata": {},
   "outputs": [],
   "source": [
    "df_13 = pd.read_csv(\"final_school_food_5.csv\", encoding='EUC-KR', sep='\\t')\n",
    "df_13.to_excel(\"final_school_food_5.xlsx\", index=False)"
   ]
  },
  {
   "cell_type": "markdown",
   "id": "d250f5b9",
   "metadata": {},
   "source": [
    "# 3. 추출\n",
    "- SQL, CSV 저장"
   ]
  },
  {
   "cell_type": "markdown",
   "id": "a5a2e297",
   "metadata": {},
   "source": []
  },
  {
   "cell_type": "code",
   "execution_count": null,
   "id": "a5103654",
   "metadata": {},
   "outputs": [],
   "source": [
    "# import pandas as pd\n",
    "\n",
    "# # 1) 데이터 로드\n",
    "# df = pd.read_csv(\"preprocess_food.csv\", encoding=\"utf-8-sig\")\n",
    "# df_school = pd.read_csv(\"preprocess_school_food.csv\", encoding=\"utf-8-sig\")\n",
    "\n",
    "# # 2) 학교 테이블 INSERT 생성\n",
    "# # autoinc PK(pk)는 빼고, (`학교`,`시도명`,`생성일자`,`수정일자`) 만 넣음\n",
    "# sql_school = []\n",
    "# for school_name, sido in df_school[[\"학교\",\"시도명\"]].drop_duplicates().values:\n",
    "#     stmt = (\n",
    "#         \"INSERT INTO `학교` (`학교`,`시도명`,`생성일자`,`수정일자`)\\n\"\n",
    "#         f\"VALUES ('{school_name}', '{sido}', NOW(), NOW());\"\n",
    "#     )\n",
    "#     sql_school.append(stmt)\n",
    "\n",
    "# # 3) 영양소 테이블 INSERT 생성\n",
    "# # 컬럼명 중 식별 키가 아닌 순수 영양소 컬럼만 뽑아서 (`영양소 이름`,`단위`) 삽입\n",
    "# nutrient_cols = [\n",
    "#     c for c in df.columns \n",
    "#     if c not in [\"음식명\",\"급식날짜\",\"메뉴이름\"] \n",
    "#        and not c.startswith(\"메뉴\") \n",
    "#        and c != \"에너지(kcal)\"\n",
    "# ]\n",
    "# sql_nutrient = []\n",
    "# for nut in nutrient_cols:\n",
    "#     stmt = (\n",
    "#         \"INSERT INTO `영양소 테이블` (`영양소 이름`,`단위`)\\n\"\n",
    "#         f\"VALUES ('{nut}', 'g');\"\n",
    "#     )\n",
    "#     sql_nutrient.append(stmt)\n",
    "\n",
    "# # 4) 메뉴 테이블 INSERT 생성\n",
    "# # autoinc PK(pk) 제외, pk2는 학교 fk → 서브쿼리로 school.pk 참조\n",
    "# sql_menu = []\n",
    "# for _, row in df.iterrows():\n",
    "#     date = pd.to_datetime(row[\"급식날짜\"]).strftime(\"%Y-%m-%d\")\n",
    "#     school = row[\"학교\"]\n",
    "#     for i in range(1, 11):\n",
    "#         mcol = f\"메뉴{i}\"\n",
    "#         menu_name = row.get(mcol, \"\")\n",
    "#         if not isinstance(menu_name, str) or not menu_name.strip():\n",
    "#             continue\n",
    "#         stmt = (\n",
    "#             \"INSERT INTO `메뉴 테이블` \"\n",
    "#             \"(`pk2`,`급식날짜`,`메뉴이름`,`선호도`)\\n\"\n",
    "#             \"VALUES (\\n\"\n",
    "#             # school 테이블에서 해당 학교의 pk를 찾아 넣어줌\n",
    "#             f\"  (SELECT `pk` FROM `학교` WHERE `학교` = '{school}'),\\n\"\n",
    "#             f\"  '{date}',\\n\"\n",
    "#             f\"  '{menu_name}',\\n\"\n",
    "#             \"  NULL\\n\"\n",
    "#             \");\"\n",
    "#         )\n",
    "#         sql_menu.append(stmt)\n",
    "\n",
    "# # 5) 메뉴별 영양소 테이블 INSERT 생성\n",
    "# # autoinc PK(pk) 제외, pk2는 영양소 fk → 서브쿼리로 nutrient.pk 참조\n",
    "# sql_menu_nut = []\n",
    "# for _, row in df.iterrows():\n",
    "#     date = pd.to_datetime(row[\"급식날짜\"]).strftime(\"%Y-%m-%d\")\n",
    "#     school = row[\"학교\"]\n",
    "#     for nut in nutrient_cols:\n",
    "#         qty = row.get(nut)\n",
    "#         if pd.isna(qty):\n",
    "#             continue\n",
    "#         menu_name = row[\"메뉴1\"]  # 또는 원하는 메뉴 기준 열\n",
    "#         stmt = (\n",
    "#             \"INSERT INTO `메뉴별 영양소 테이블` \"\n",
    "#             \"(`pk2`,`영양소 양`)\\n\"\n",
    "#             \"VALUES (\\n\"\n",
    "#             # nutrient 테이블에서 영양소 pk 찾기\n",
    "#             f\"  (SELECT `pk` FROM `영양소 테이블` WHERE `영양소 이름` = '{nut}'),\\n\"\n",
    "#             f\"  {qty}\\n\"\n",
    "#             \");\"\n",
    "#         )\n",
    "#         sql_menu_nut.append(stmt)\n",
    "\n",
    "# # 6) 파일로 출력\n",
    "# with open(\"insert_학교.sql\", \"w\", encoding=\"utf-8\") as f:\n",
    "#     f.write(\"\\n\\n\".join(sql_school))\n",
    "\n",
    "# with open(\"insert_영양소.sql\", \"w\", encoding=\"utf-8\") as f:\n",
    "#     f.write(\"\\n\\n\".join(sql_nutrient))\n",
    "\n",
    "# with open(\"insert_메뉴.sql\", \"w\", encoding=\"utf-8\") as f:\n",
    "#     f.write(\"\\n\\n\".join(sql_menu))\n",
    "\n",
    "# with open(\"insert_메뉴별영양소.sql\", \"w\", encoding=\"utf-8\") as f:\n",
    "#     f.write(\"\\n\\n\".join(sql_menu_nut))\n",
    "\n",
    "# print(\"✅ AUTOINCREMENT PK를 제외한 INSERT 스크립트가 생성되었습니다.\")\n"
   ]
  },
  {
   "cell_type": "code",
   "execution_count": null,
   "id": "8baccdf3",
   "metadata": {},
   "outputs": [],
   "source": []
  }
 ],
 "metadata": {
  "kernelspec": {
   "display_name": "Python 3",
   "language": "python",
   "name": "python3"
  },
  "language_info": {
   "codemirror_mode": {
    "name": "ipython",
    "version": 3
   },
   "file_extension": ".py",
   "mimetype": "text/x-python",
   "name": "python",
   "nbconvert_exporter": "python",
   "pygments_lexer": "ipython3",
   "version": "3.10.11"
  }
 },
 "nbformat": 4,
 "nbformat_minor": 5
}
